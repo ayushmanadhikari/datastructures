{
 "cells": [
  {
   "cell_type": "code",
   "execution_count": 1,
   "id": "0889f3c0",
   "metadata": {},
   "outputs": [],
   "source": [
    "#singly linked list"
   ]
  },
  {
   "cell_type": "code",
   "execution_count": 39,
   "id": "6f24dd15",
   "metadata": {},
   "outputs": [],
   "source": [
    "class Node:\n",
    "    def __init__(self, data=None, nxt=None):\n",
    "        self.data = data\n",
    "        self.next = nxt\n",
    "\n",
    "\n",
    "class Slinked:\n",
    "    def __init__(self):\n",
    "        self.head = None\n",
    "    \n",
    "    def insert_begining(self, data):\n",
    "        if self.head is None:\n",
    "            self.head = Node(data, None)\n",
    "        else:\n",
    "            node = Node(data, self.head)\n",
    "            self.head = node\n",
    "    \n",
    "    def insert_end(self, data):\n",
    "        itr = self.head\n",
    "        while itr.next:\n",
    "            itr = itr.next\n",
    "        node = Node(data, None)\n",
    "        itr.next = node\n",
    "    \n",
    "    def create_list(self, datalist):\n",
    "        self.head = None\n",
    "        while data in datalist:\n",
    "            self.insert_end(data)\n",
    "    \n",
    "    def insert_at(self, index, data):\n",
    "        itr = self.head\n",
    "        count = 0\n",
    "        while itr:\n",
    "            if count == index-1:\n",
    "                node = Node(data, itr.next)\n",
    "                itr.next = node\n",
    "            itr = itr.next\n",
    "            count = count + 1\n",
    "            \n",
    "    def getlength(self):\n",
    "        length = 0\n",
    "        itr = self.head\n",
    "        while itr:\n",
    "            length = length + 1\n",
    "        return length\n",
    "    \n",
    "    def printlist(self):\n",
    "        itr = self.head\n",
    "        list1 = \"\"\n",
    "        while itr:\n",
    "            list1 = list1 + str(itr.data) + '->'\n",
    "            itr = itr.next\n",
    "        print(list1)\n",
    "    \n",
    "    ## removing elements\n",
    "    def remove_at(self, index):\n",
    "        itr = self.head\n",
    "        count = 0\n",
    "        while itr:\n",
    "            if count == index-1:\n",
    "                itr.next = itr.next.next\n",
    "                break\n",
    "            itr = itr.next\n",
    "            count = count + 1"
   ]
  },
  {
   "cell_type": "code",
   "execution_count": 40,
   "id": "615ec978",
   "metadata": {},
   "outputs": [],
   "source": [
    "ll = Slinked()"
   ]
  },
  {
   "cell_type": "code",
   "execution_count": 41,
   "id": "cfcbaf51",
   "metadata": {},
   "outputs": [
    {
     "name": "stdout",
     "output_type": "stream",
     "text": [
      "8->6->4->2->\n"
     ]
    }
   ],
   "source": [
    "ll.insert_begining(2)\n",
    "ll.insert_begining(4)\n",
    "ll.insert_begining(6)\n",
    "ll.insert_begining(8)\n",
    "ll.printlist()"
   ]
  },
  {
   "cell_type": "code",
   "execution_count": 42,
   "id": "f301ca99",
   "metadata": {},
   "outputs": [],
   "source": [
    "ll.insert_end(0)"
   ]
  },
  {
   "cell_type": "code",
   "execution_count": 43,
   "id": "8b0ab201",
   "metadata": {},
   "outputs": [
    {
     "name": "stdout",
     "output_type": "stream",
     "text": [
      "8->6->4->2->0->\n"
     ]
    }
   ],
   "source": [
    "ll.printlist()"
   ]
  },
  {
   "cell_type": "code",
   "execution_count": 44,
   "id": "cf3f0a8e",
   "metadata": {},
   "outputs": [
    {
     "name": "stdout",
     "output_type": "stream",
     "text": [
      "8->6->2->0->\n"
     ]
    }
   ],
   "source": [
    "ll.remove_at(2)\n",
    "ll.printlist()"
   ]
  },
  {
   "cell_type": "code",
   "execution_count": 45,
   "id": "40a473fd",
   "metadata": {},
   "outputs": [
    {
     "name": "stdout",
     "output_type": "stream",
     "text": [
      "8->6->4->2->0->\n"
     ]
    }
   ],
   "source": [
    "ll.insert_at(2, 4)\n",
    "ll.printlist()"
   ]
  },
  {
   "cell_type": "code",
   "execution_count": null,
   "id": "6ee1f21f",
   "metadata": {},
   "outputs": [],
   "source": []
  }
 ],
 "metadata": {
  "kernelspec": {
   "display_name": "Python 3 (ipykernel)",
   "language": "python",
   "name": "python3"
  },
  "language_info": {
   "codemirror_mode": {
    "name": "ipython",
    "version": 3
   },
   "file_extension": ".py",
   "mimetype": "text/x-python",
   "name": "python",
   "nbconvert_exporter": "python",
   "pygments_lexer": "ipython3",
   "version": "3.9.5"
  }
 },
 "nbformat": 4,
 "nbformat_minor": 5
}
