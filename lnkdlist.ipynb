{
 "cells": [
  {
   "cell_type": "code",
   "execution_count": 1,
   "id": "0cbef669",
   "metadata": {},
   "outputs": [],
   "source": [
    "#singly linked list"
   ]
  },
  {
   "cell_type": "code",
   "execution_count": 47,
   "id": "7eb2d9ea",
   "metadata": {},
   "outputs": [],
   "source": [
    "class Node:\n",
    "    def __init__(self, data=None, nxt=None):\n",
    "        self.data = data\n",
    "        self.next = nxt\n",
    "\n",
    "\n",
    "class Slinked:\n",
    "    def __init__(self):\n",
    "        self.head = None\n",
    "    \n",
    "    def insert_begining(self, data):\n",
    "        if self.head is None:\n",
    "            self.head = Node(data, None)\n",
    "        else:\n",
    "            node = Node(data, self.head)\n",
    "            self.head = node\n",
    "    \n",
    "    def insert_end(self, data):\n",
    "        if self.head is None:\n",
    "            node = Node(data, None)\n",
    "            self.head = node\n",
    "            return\n",
    "        itr = self.head\n",
    "        while itr.next:\n",
    "            itr = itr.next\n",
    "        node = Node(data, None)\n",
    "        itr.next = node\n",
    "    \n",
    "    def create_list(self, datalist):\n",
    "        self.head = None\n",
    "        while data in datalist:\n",
    "            self.insert_end(data)\n",
    "    \n",
    "    def insert_at(self, index, data):\n",
    "        itr = self.head\n",
    "        count = 0\n",
    "        while itr:\n",
    "            if count == index-1:\n",
    "                node = Node(data, itr.next)\n",
    "                itr.next = node\n",
    "            count = count + 1\n",
    "            itr = itr.next\n",
    "            \n",
    "    def getlength(self):\n",
    "        length = 0\n",
    "        itr = self.head\n",
    "        while itr:\n",
    "            length = length + 1\n",
    "        return length\n",
    "    \n",
    "    def printlist(self):\n",
    "        if self.head is None:\n",
    "            print(\"Linked list is empty!\")\n",
    "        else:\n",
    "            itr = self.head\n",
    "            list1 = \"\"\n",
    "            while itr:\n",
    "                list1 = list1 + str(itr.data) + '->'\n",
    "                itr = itr.next\n",
    "            print(list1)\n",
    "\n",
    "    \n",
    "    ## removing elements\n",
    "    def remove_at(self, index):\n",
    "        if index<0 or index>self.getlength:\n",
    "            print(\"Invalid Index\")\n",
    "        elif index == 0:\n",
    "            self.head = self.head.next\n",
    "        else:\n",
    "            itr = self.head\n",
    "            count = 0\n",
    "            while itr:\n",
    "                if count == index-1:\n",
    "                    itr.next = itr.next.next\n",
    "                    break\n",
    "                itr = itr.next\n",
    "                count = count + 1\n",
    "    "
   ]
  },
  {
   "cell_type": "code",
   "execution_count": 40,
   "id": "0ec20f54",
   "metadata": {},
   "outputs": [],
   "source": [
    "ll = Slinked()"
   ]
  },
  {
   "cell_type": "code",
   "execution_count": 41,
   "id": "f987b9db",
   "metadata": {},
   "outputs": [
    {
     "name": "stdout",
     "output_type": "stream",
     "text": [
      "8->6->4->2->\n"
     ]
    }
   ],
   "source": [
    "ll.insert_begining(2)\n",
    "ll.insert_begining(4)\n",
    "ll.insert_begining(6)\n",
    "ll.insert_begining(8)\n",
    "ll.printlist()"
   ]
  },
  {
   "cell_type": "code",
   "execution_count": 42,
   "id": "214a7c02",
   "metadata": {},
   "outputs": [],
   "source": [
    "ll.insert_end(0)"
   ]
  },
  {
   "cell_type": "code",
   "execution_count": 43,
   "id": "ec144c68",
   "metadata": {},
   "outputs": [
    {
     "name": "stdout",
     "output_type": "stream",
     "text": [
      "8->6->4->2->0->\n"
     ]
    }
   ],
   "source": [
    "ll.printlist()"
   ]
  },
  {
   "cell_type": "code",
   "execution_count": 44,
   "id": "524262f8",
   "metadata": {},
   "outputs": [
    {
     "name": "stdout",
     "output_type": "stream",
     "text": [
      "8->6->2->0->\n"
     ]
    }
   ],
   "source": [
    "ll.remove_at(2)\n",
    "ll.printlist()"
   ]
  },
  {
   "cell_type": "code",
   "execution_count": 45,
   "id": "6917e76b",
   "metadata": {},
   "outputs": [
    {
     "name": "stdout",
     "output_type": "stream",
     "text": [
      "8->6->4->2->0->\n"
     ]
    }
   ],
   "source": [
    "ll.insert_at(2, 4)\n",
    "ll.printlist()"
   ]
  },
  {
   "cell_type": "code",
   "execution_count": 49,
   "id": "dce6ee9f",
   "metadata": {},
   "outputs": [
    {
     "ename": "NameError",
     "evalue": "name 'data' is not defined",
     "output_type": "error",
     "traceback": [
      "\u001b[1;31m---------------------------------------------------------------------------\u001b[0m",
      "\u001b[1;31mNameError\u001b[0m                                 Traceback (most recent call last)",
      "\u001b[1;32m~\\AppData\\Local\\Temp/ipykernel_444/4277815961.py\u001b[0m in \u001b[0;36m<module>\u001b[1;34m\u001b[0m\n\u001b[0;32m      1\u001b[0m \u001b[0mll2\u001b[0m \u001b[1;33m=\u001b[0m \u001b[0mSlinked\u001b[0m\u001b[1;33m(\u001b[0m\u001b[1;33m)\u001b[0m\u001b[1;33m\u001b[0m\u001b[1;33m\u001b[0m\u001b[0m\n\u001b[1;32m----> 2\u001b[1;33m \u001b[0mll2\u001b[0m\u001b[1;33m.\u001b[0m\u001b[0mcreate_list\u001b[0m\u001b[1;33m(\u001b[0m\u001b[1;33m[\u001b[0m\u001b[1;36m1\u001b[0m\u001b[1;33m,\u001b[0m\u001b[1;36m2\u001b[0m\u001b[1;33m,\u001b[0m\u001b[1;36m3\u001b[0m\u001b[1;33m,\u001b[0m\u001b[1;36m4\u001b[0m\u001b[1;33m,\u001b[0m\u001b[1;36m5\u001b[0m\u001b[1;33m]\u001b[0m\u001b[1;33m)\u001b[0m\u001b[1;33m\u001b[0m\u001b[1;33m\u001b[0m\u001b[0m\n\u001b[0m",
      "\u001b[1;32m~\\AppData\\Local\\Temp/ipykernel_444/2629138304.py\u001b[0m in \u001b[0;36mcreate_list\u001b[1;34m(self, datalist)\u001b[0m\n\u001b[0;32m     25\u001b[0m     \u001b[1;32mdef\u001b[0m \u001b[0mcreate_list\u001b[0m\u001b[1;33m(\u001b[0m\u001b[0mself\u001b[0m\u001b[1;33m,\u001b[0m \u001b[0mdatalist\u001b[0m\u001b[1;33m)\u001b[0m\u001b[1;33m:\u001b[0m\u001b[1;33m\u001b[0m\u001b[1;33m\u001b[0m\u001b[0m\n\u001b[0;32m     26\u001b[0m         \u001b[0mself\u001b[0m\u001b[1;33m.\u001b[0m\u001b[0mhead\u001b[0m \u001b[1;33m=\u001b[0m \u001b[1;32mNone\u001b[0m\u001b[1;33m\u001b[0m\u001b[1;33m\u001b[0m\u001b[0m\n\u001b[1;32m---> 27\u001b[1;33m         \u001b[1;32mwhile\u001b[0m \u001b[0mdata\u001b[0m \u001b[1;32min\u001b[0m \u001b[0mdatalist\u001b[0m\u001b[1;33m:\u001b[0m\u001b[1;33m\u001b[0m\u001b[1;33m\u001b[0m\u001b[0m\n\u001b[0m\u001b[0;32m     28\u001b[0m             \u001b[0mself\u001b[0m\u001b[1;33m.\u001b[0m\u001b[0minsert_end\u001b[0m\u001b[1;33m(\u001b[0m\u001b[0mdata\u001b[0m\u001b[1;33m)\u001b[0m\u001b[1;33m\u001b[0m\u001b[1;33m\u001b[0m\u001b[0m\n\u001b[0;32m     29\u001b[0m \u001b[1;33m\u001b[0m\u001b[0m\n",
      "\u001b[1;31mNameError\u001b[0m: name 'data' is not defined"
     ]
    }
   ],
   "source": [
    "ll2 = Slinked()\n",
    "ll2.create_list([1,2,3,4,5])"
   ]
  },
  {
   "cell_type": "code",
   "execution_count": null,
   "id": "b4c6ee7a",
   "metadata": {},
   "outputs": [],
   "source": []
  }
 ],
 "metadata": {
  "kernelspec": {
   "display_name": "Python 3 (ipykernel)",
   "language": "python",
   "name": "python3"
  },
  "language_info": {
   "codemirror_mode": {
    "name": "ipython",
    "version": 3
   },
   "file_extension": ".py",
   "mimetype": "text/x-python",
   "name": "python",
   "nbconvert_exporter": "python",
   "pygments_lexer": "ipython3",
   "version": "3.9.5"
  }
 },
 "nbformat": 4,
 "nbformat_minor": 5
}
