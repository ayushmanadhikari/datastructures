{
 "cells": [
  {
   "cell_type": "code",
   "execution_count": 1,
   "id": "4ee474bc",
   "metadata": {},
   "outputs": [],
   "source": [
    "#singly linked list"
   ]
  },
  {
   "cell_type": "code",
   "execution_count": 25,
   "id": "4aff794a",
   "metadata": {},
   "outputs": [],
   "source": [
    "class Node:\n",
    "    def __init__(self, data=None, nxt=None):\n",
    "        self.data = data\n",
    "        self.next = nxt\n",
    "\n",
    "\n",
    "class Slinked:\n",
    "    def __init__(self):\n",
    "        self.head = None\n",
    "    \n",
    "    def insert_begining(self, data):\n",
    "        if self.head is None:\n",
    "            self.head = Node(data, None)\n",
    "        else:\n",
    "            node = Node(data, self.head)\n",
    "            self.head = node\n",
    "    \n",
    "    def insert_end(self, data):\n",
    "        itr = self.head\n",
    "        while itr.next:\n",
    "            itr = itr.next\n",
    "        node = Node(data, None)\n",
    "        itr.next = node\n",
    "    \n",
    "    def create_list(self, datalist):\n",
    "        self.head = None\n",
    "        while data in datalist:\n",
    "            self.insert_end(data)\n",
    "            \n",
    "    def getlength(self):\n",
    "        length = 0\n",
    "        itr = self.head\n",
    "        while itr:\n",
    "            length = length + 1\n",
    "        return length\n",
    "    \n",
    "    def printlist(self):\n",
    "        itr = self.head\n",
    "        list1 = \"\"\n",
    "        while itr:\n",
    "            list1 = list1 + str(itr.data) + ''\n",
    "            itr = itr.next\n",
    "        print(list1)\n"
   ]
  },
  {
   "cell_type": "code",
   "execution_count": 26,
   "id": "299f35fd",
   "metadata": {},
   "outputs": [],
   "source": [
    "ll = Slinked()"
   ]
  },
  {
   "cell_type": "code",
   "execution_count": 27,
   "id": "794ea774",
   "metadata": {},
   "outputs": [
    {
     "name": "stdout",
     "output_type": "stream",
     "text": [
      "8642\n"
     ]
    }
   ],
   "source": [
    "ll.insert_begining(2)\n",
    "ll.insert_begining(4)\n",
    "ll.insert_begining(6)\n",
    "ll.insert_begining(8)\n",
    "ll.printlist()"
   ]
  },
  {
   "cell_type": "code",
   "execution_count": null,
   "id": "fa51d789",
   "metadata": {},
   "outputs": [],
   "source": []
  },
  {
   "cell_type": "code",
   "execution_count": null,
   "id": "78fb2f76",
   "metadata": {},
   "outputs": [],
   "source": []
  },
  {
   "cell_type": "code",
   "execution_count": null,
   "id": "f9c74267",
   "metadata": {},
   "outputs": [],
   "source": []
  }
 ],
 "metadata": {
  "kernelspec": {
   "display_name": "Python 3 (ipykernel)",
   "language": "python",
   "name": "python3"
  },
  "language_info": {
   "codemirror_mode": {
    "name": "ipython",
    "version": 3
   },
   "file_extension": ".py",
   "mimetype": "text/x-python",
   "name": "python",
   "nbconvert_exporter": "python",
   "pygments_lexer": "ipython3",
   "version": "3.9.5"
  }
 },
 "nbformat": 4,
 "nbformat_minor": 5
}
