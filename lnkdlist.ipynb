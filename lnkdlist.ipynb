{
 "cells": [
  {
   "cell_type": "code",
   "execution_count": 1,
   "id": "f6b61412",
   "metadata": {},
   "outputs": [],
   "source": [
    "#singly linked list"
   ]
  },
  {
   "cell_type": "code",
   "execution_count": null,
   "id": "c2a5b212",
   "metadata": {},
   "outputs": [],
   "source": [
    "class Node:\n",
    "    def __init__(self, data=None, nxt=None):\n",
    "        self.data = data\n",
    "        self.next = nxt\n",
    "\n",
    "\n",
    "class Slinked:\n",
    "    def __init__(self):\n",
    "        self.head = None\n",
    "    \n",
    "    def insert_begining(self, data):\n",
    "        if self.head is None:\n",
    "            self.head.data = data\n",
    "            self.head.next = None\n",
    "        else:\n",
    "            node = Node(data, self.head)\n",
    "            self.head = node\n",
    "    \n",
    "    def insert_end(self, data):\n",
    "        \n",
    "            "
   ]
  }
 ],
 "metadata": {
  "kernelspec": {
   "display_name": "Python 3 (ipykernel)",
   "language": "python",
   "name": "python3"
  },
  "language_info": {
   "codemirror_mode": {
    "name": "ipython",
    "version": 3
   },
   "file_extension": ".py",
   "mimetype": "text/x-python",
   "name": "python",
   "nbconvert_exporter": "python",
   "pygments_lexer": "ipython3",
   "version": "3.9.5"
  }
 },
 "nbformat": 4,
 "nbformat_minor": 5
}
