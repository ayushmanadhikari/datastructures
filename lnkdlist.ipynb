{
 "cells": [
  {
   "cell_type": "code",
   "execution_count": 1,
   "id": "3f5b3c49",
   "metadata": {},
   "outputs": [],
   "source": [
    "#singly linked list"
   ]
  },
  {
   "cell_type": "code",
   "execution_count": 46,
   "id": "056e80af",
   "metadata": {},
   "outputs": [],
   "source": [
    "class Node:\n",
    "    def __init__(self, data=None, nxt=None):\n",
    "        self.data = data\n",
    "        self.next = nxt\n",
    "\n",
    "\n",
    "class Slinked:\n",
    "    def __init__(self):\n",
    "        self.head = None\n",
    "    \n",
    "    def insert_begining(self, data):\n",
    "        if self.head is None:\n",
    "            self.head = Node(data, None)\n",
    "        else:\n",
    "            node = Node(data, self.head)\n",
    "            self.head = node\n",
    "    \n",
    "    def insert_end(self, data):\n",
    "        itr = self.head\n",
    "        while itr.next:\n",
    "            itr = itr.next\n",
    "        node = Node(data, None)\n",
    "        itr.next = node\n",
    "    \n",
    "    def create_list(self, datalist):\n",
    "        self.head = None\n",
    "        while data in datalist:\n",
    "            self.insert_end(data)\n",
    "    \n",
    "    def insert_at(self, index, data):\n",
    "        itr = self.head\n",
    "        count = 0\n",
    "        while itr:\n",
    "            if count == index-1:\n",
    "                node = Node(data, itr.next)\n",
    "                itr.next = node\n",
    "            count = count + 1\n",
    "            itr = itr.next\n",
    "            \n",
    "    def getlength(self):\n",
    "        length = 0\n",
    "        itr = self.head\n",
    "        while itr:\n",
    "            length = length + 1\n",
    "        return length\n",
    "    \n",
    "    def printlist(self):\n",
    "        if self.head is None:\n",
    "            print(\"Linked list is empty!\")\n",
    "        else:\n",
    "            itr = self.head\n",
    "            list1 = \"\"\n",
    "            while itr:\n",
    "                list1 = list1 + str(itr.data) + '->'\n",
    "                itr = itr.next\n",
    "            print(list1)\n",
    "\n",
    "    \n",
    "    ## removing elements\n",
    "    def remove_at(self, index):\n",
    "        if index<0 or index>self.getlength:\n",
    "            print(\"Invalid Index\")\n",
    "        elif index == 0:\n",
    "            self.head = self.head.next\n",
    "        else:\n",
    "            itr = self.head\n",
    "            count = 0\n",
    "            while itr:\n",
    "                if count == index-1:\n",
    "                    itr.next = itr.next.next\n",
    "                    break\n",
    "                itr = itr.next\n",
    "                count = count + 1"
   ]
  },
  {
   "cell_type": "code",
   "execution_count": 40,
   "id": "911f6678",
   "metadata": {},
   "outputs": [],
   "source": [
    "ll = Slinked()"
   ]
  },
  {
   "cell_type": "code",
   "execution_count": 41,
   "id": "31cdb77c",
   "metadata": {},
   "outputs": [
    {
     "name": "stdout",
     "output_type": "stream",
     "text": [
      "8->6->4->2->\n"
     ]
    }
   ],
   "source": [
    "ll.insert_begining(2)\n",
    "ll.insert_begining(4)\n",
    "ll.insert_begining(6)\n",
    "ll.insert_begining(8)\n",
    "ll.printlist()"
   ]
  },
  {
   "cell_type": "code",
   "execution_count": 42,
   "id": "40b2d758",
   "metadata": {},
   "outputs": [],
   "source": [
    "ll.insert_end(0)"
   ]
  },
  {
   "cell_type": "code",
   "execution_count": 43,
   "id": "ded305cf",
   "metadata": {},
   "outputs": [
    {
     "name": "stdout",
     "output_type": "stream",
     "text": [
      "8->6->4->2->0->\n"
     ]
    }
   ],
   "source": [
    "ll.printlist()"
   ]
  },
  {
   "cell_type": "code",
   "execution_count": 44,
   "id": "e4f07bc3",
   "metadata": {},
   "outputs": [
    {
     "name": "stdout",
     "output_type": "stream",
     "text": [
      "8->6->2->0->\n"
     ]
    }
   ],
   "source": [
    "ll.remove_at(2)\n",
    "ll.printlist()"
   ]
  },
  {
   "cell_type": "code",
   "execution_count": 45,
   "id": "cc080e54",
   "metadata": {},
   "outputs": [
    {
     "name": "stdout",
     "output_type": "stream",
     "text": [
      "8->6->4->2->0->\n"
     ]
    }
   ],
   "source": [
    "ll.insert_at(2, 4)\n",
    "ll.printlist()"
   ]
  },
  {
   "cell_type": "code",
   "execution_count": null,
   "id": "e3b413cb",
   "metadata": {},
   "outputs": [],
   "source": []
  }
 ],
 "metadata": {
  "kernelspec": {
   "display_name": "Python 3 (ipykernel)",
   "language": "python",
   "name": "python3"
  },
  "language_info": {
   "codemirror_mode": {
    "name": "ipython",
    "version": 3
   },
   "file_extension": ".py",
   "mimetype": "text/x-python",
   "name": "python",
   "nbconvert_exporter": "python",
   "pygments_lexer": "ipython3",
   "version": "3.9.5"
  }
 },
 "nbformat": 4,
 "nbformat_minor": 5
}
