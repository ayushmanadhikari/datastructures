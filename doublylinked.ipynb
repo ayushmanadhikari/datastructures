{
 "cells": [
  {
   "cell_type": "code",
   "execution_count": 1,
   "id": "febf3905",
   "metadata": {},
   "outputs": [],
   "source": [
    "# doubly linked list"
   ]
  },
  {
   "cell_type": "code",
   "execution_count": 15,
   "id": "79384275",
   "metadata": {},
   "outputs": [],
   "source": [
    "class Node:\n",
    "    def __init__(self, data=None, prev=None, nxt=None):\n",
    "        self.data = data\n",
    "        self.prev = prev\n",
    "        self.next = nxt\n",
    "    \n",
    "class Dlinked:\n",
    "    def __init__(self):\n",
    "        self.head = None\n",
    "    \n",
    "    def insert_beg(self, data):\n",
    "        if self.head is None:\n",
    "            self.head = Node(data)\n",
    "            return\n",
    "        node = Node(data, prev=None, nxt=self.head)\n",
    "        self.head = node\n",
    "    \n",
    "    def insert_end(self, data):\n",
    "        if self.head is None:\n",
    "            self.head = Node(data)\n",
    "            return\n",
    "        itr = self.head\n",
    "        while itr.next:\n",
    "            itr = itr.next\n",
    "        node = Node(data, prev=itr.next, nxt=None)\n",
    "        itr.next = node\n",
    "        #print(f\"cur:{itr.data} -- cur.next:{itr.next.data}\")\n",
    "        \n",
    "    def printlist(self):\n",
    "        itr = self.head\n",
    "        string = \"\"\n",
    "        while itr:\n",
    "            string = string + str(itr.data) + \"->\"\n",
    "            #print(itr.data)\n",
    "            itr = itr.next\n",
    "        print(string)\n",
    "\n",
    "#iterating using the previous pointer\n",
    "#    def insert_begining(self, data):\n",
    "        "
   ]
  },
  {
   "cell_type": "code",
   "execution_count": 16,
   "id": "2bcd6731",
   "metadata": {},
   "outputs": [],
   "source": [
    "dd = Dlinked()"
   ]
  },
  {
   "cell_type": "code",
   "execution_count": 17,
   "id": "e59714b3",
   "metadata": {},
   "outputs": [],
   "source": [
    "dd.insert_beg(5)\n",
    "dd.insert_beg(4)\n",
    "dd.insert_beg(3)"
   ]
  },
  {
   "cell_type": "code",
   "execution_count": 18,
   "id": "4e653b6f",
   "metadata": {
    "scrolled": true
   },
   "outputs": [
    {
     "name": "stdout",
     "output_type": "stream",
     "text": [
      "3->4->5->\n"
     ]
    }
   ],
   "source": [
    "dd.printlist()"
   ]
  },
  {
   "cell_type": "code",
   "execution_count": null,
   "id": "261f324e",
   "metadata": {},
   "outputs": [],
   "source": []
  },
  {
   "cell_type": "code",
   "execution_count": 19,
   "id": "ef10b848",
   "metadata": {},
   "outputs": [
    {
     "name": "stdout",
     "output_type": "stream",
     "text": [
      "3->4->5->6->7->8->\n"
     ]
    }
   ],
   "source": [
    "dd.insert_end(6)\n",
    "dd.insert_end(7)\n",
    "dd.insert_end(8)\n",
    "dd.printlist()"
   ]
  },
  {
   "cell_type": "code",
   "execution_count": 7,
   "id": "d07f0ddd",
   "metadata": {
    "scrolled": true
   },
   "outputs": [
    {
     "name": "stdout",
     "output_type": "stream",
     "text": [
      "cur:8 -- cur.next:9\n"
     ]
    }
   ],
   "source": [
    "dd.insert_end(9)\n"
   ]
  },
  {
   "cell_type": "code",
   "execution_count": 9,
   "id": "9d28e447",
   "metadata": {},
   "outputs": [
    {
     "name": "stdout",
     "output_type": "stream",
     "text": [
      "3\n",
      "4\n",
      "5\n",
      "6\n",
      "7\n",
      "8\n",
      "9\n"
     ]
    }
   ],
   "source": [
    "dd.printlist()"
   ]
  },
  {
   "cell_type": "code",
   "execution_count": null,
   "id": "48407655",
   "metadata": {},
   "outputs": [],
   "source": []
  }
 ],
 "metadata": {
  "kernelspec": {
   "display_name": "Python 3 (ipykernel)",
   "language": "python",
   "name": "python3"
  },
  "language_info": {
   "codemirror_mode": {
    "name": "ipython",
    "version": 3
   },
   "file_extension": ".py",
   "mimetype": "text/x-python",
   "name": "python",
   "nbconvert_exporter": "python",
   "pygments_lexer": "ipython3",
   "version": "3.9.5"
  }
 },
 "nbformat": 4,
 "nbformat_minor": 5
}
