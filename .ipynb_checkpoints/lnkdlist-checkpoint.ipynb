{
 "cells": [
  {
   "cell_type": "code",
   "execution_count": 1,
   "id": "381f24e5",
   "metadata": {},
   "outputs": [],
   "source": [
    "#singly linked list"
   ]
  },
  {
   "cell_type": "code",
   "execution_count": 14,
   "id": "7925654e",
   "metadata": {},
   "outputs": [],
   "source": [
    "class Node:\n",
    "    def __init__(self, data=None, nxt=None):\n",
    "        self.data = data\n",
    "        self.next = nxt\n",
    "\n",
    "\n",
    "class Slinked:\n",
    "    def __init__(self):\n",
    "        self.head = None\n",
    "    \n",
    "    def insert_begining(self, data):\n",
    "        if self.head is None:\n",
    "            self.head = Node(data, None)\n",
    "        else:\n",
    "            node = Node(data, self.head)\n",
    "            self.head = node\n",
    "    \n",
    "    def insert_end(self, data):\n",
    "        if self.head is None:\n",
    "            node = Node(data, None)\n",
    "            self.head = node\n",
    "            return\n",
    "        itr = self.head\n",
    "        while itr.next:\n",
    "            itr = itr.next\n",
    "        node = Node(data, None)\n",
    "        itr.next = node\n",
    "    \n",
    "    def create_list(self, datalist):\n",
    "        self.head = None\n",
    "        for data in datalist:\n",
    "            self.insert_end(data)\n",
    "    \n",
    "    def insert_at(self, index, data):\n",
    "        itr = self.head\n",
    "        count = 0\n",
    "        while itr:\n",
    "            if count == index-1:\n",
    "                node = Node(data, itr.next)\n",
    "                itr.next = node\n",
    "                break\n",
    "            count = count + 1\n",
    "            itr = itr.next\n",
    "            \n",
    "    def getlength(self):\n",
    "        length = 0\n",
    "        itr = self.head\n",
    "        while itr:\n",
    "            length = length + 1\n",
    "        return length\n",
    "    \n",
    "    def printlist(self):\n",
    "        if self.head is None:\n",
    "            print(\"Linked list is empty!\")\n",
    "        else:\n",
    "            itr = self.head\n",
    "            list1 = \"\"\n",
    "            while itr:\n",
    "                list1 = list1 + str(itr.data) + '->'\n",
    "                itr = itr.next\n",
    "            print(list1)\n",
    "\n",
    "    \n",
    "    ## removing elements\n",
    "    def remove_at(self, index):\n",
    "        if index<0 or index>self.getlength():\n",
    "            print(\"Invalid Index\")\n",
    "        elif index == 0:\n",
    "            self.head = self.head.next\n",
    "        else:\n",
    "            itr = self.head\n",
    "            count = 0\n",
    "            while itr:\n",
    "                if count == index-1:\n",
    "                    itr.next = itr.next.next\n",
    "                    break\n",
    "                itr = itr.next\n",
    "                count = count + 1\n",
    "        \n",
    "    def remove_value(self, value):\n",
    "        # removes first instance of the value\n",
    "        itr = self.head\n",
    "        while itr.next:\n",
    "            if value==itr.next.data:\n",
    "                itr.next = itr.next.next\n",
    "            itr = itr.next\n",
    "    \n",
    "    def insert_after_value(self, data_after, data_to_insert):\n",
    "        itr = self.head\n",
    "        while itr.next:\n",
    "            if itr.data==data_after:\n",
    "                node = Node(data_to_insert, itr.next)\n",
    "                itr.next = node                \n",
    "            itr=itr.next\n",
    "    \n",
    "    # not fully understood    ref: https://www.youtube.com/watch?v=By2fM4vU-dU\n",
    "    def reverselist(self):\n",
    "        prev = None\n",
    "        curr = self.head\n",
    "        nxxt = self.head.next\n",
    "        while curr:\n",
    "            nxxt = curr.next\n",
    "            #change the direction of the pointer/node\n",
    "            curr.next = prev\n",
    "            #shifting the nodes\n",
    "            prev = curr\n",
    "            curr = nxxt\n",
    "        self.head = prev\n",
    "        return self.head\n",
    "    "
   ]
  },
  {
   "cell_type": "code",
   "execution_count": 2,
   "id": "fd62a97f",
   "metadata": {},
   "outputs": [],
   "source": [
    "ll = Slinked()"
   ]
  },
  {
   "cell_type": "code",
   "execution_count": 3,
   "id": "5170a56d",
   "metadata": {},
   "outputs": [
    {
     "name": "stdout",
     "output_type": "stream",
     "text": [
      "8->6->4->2->\n"
     ]
    }
   ],
   "source": [
    "ll.insert_begining(2)\n",
    "ll.insert_begining(4)\n",
    "ll.insert_begining(6)\n",
    "ll.insert_begining(8)\n",
    "ll.printlist()"
   ]
  },
  {
   "cell_type": "code",
   "execution_count": 4,
   "id": "303e185b",
   "metadata": {},
   "outputs": [
    {
     "name": "stdout",
     "output_type": "stream",
     "text": [
      "8->6->2->\n"
     ]
    }
   ],
   "source": [
    "ll.remove_value(4)\n",
    "ll.printlist()"
   ]
  },
  {
   "cell_type": "code",
   "execution_count": 5,
   "id": "423a4d43",
   "metadata": {},
   "outputs": [],
   "source": [
    "ll.insert_end(0)"
   ]
  },
  {
   "cell_type": "code",
   "execution_count": 6,
   "id": "ab0ba89d",
   "metadata": {},
   "outputs": [
    {
     "name": "stdout",
     "output_type": "stream",
     "text": [
      "8->6->4->2->0->\n"
     ]
    }
   ],
   "source": [
    "ll.insert_after_value(6, 4)\n",
    "ll.printlist()"
   ]
  },
  {
   "cell_type": "code",
   "execution_count": 7,
   "id": "b32cfab0",
   "metadata": {},
   "outputs": [
    {
     "name": "stdout",
     "output_type": "stream",
     "text": [
      "8->6->4->2->0->\n"
     ]
    }
   ],
   "source": [
    "ll.printlist()"
   ]
  },
  {
   "cell_type": "code",
   "execution_count": 8,
   "id": "22c6d012",
   "metadata": {},
   "outputs": [],
   "source": [
    "ll2 = Slinked()\n",
    "ll2.create_list([1,2,3,4,5])"
   ]
  },
  {
   "cell_type": "code",
   "execution_count": 10,
   "id": "a09d6bd4",
   "metadata": {},
   "outputs": [
    {
     "name": "stdout",
     "output_type": "stream",
     "text": [
      "8->6->4->2->0->\n"
     ]
    }
   ],
   "source": [
    "ll.printlist()"
   ]
  },
  {
   "cell_type": "code",
   "execution_count": 11,
   "id": "a563487d",
   "metadata": {},
   "outputs": [
    {
     "data": {
      "text/plain": [
       "<__main__.Node at 0x190c7659e50>"
      ]
     },
     "execution_count": 11,
     "metadata": {},
     "output_type": "execute_result"
    }
   ],
   "source": [
    "ll.reverselist()"
   ]
  },
  {
   "cell_type": "code",
   "execution_count": 13,
   "id": "f9aa1ea0",
   "metadata": {
    "scrolled": true
   },
   "outputs": [
    {
     "name": "stdout",
     "output_type": "stream",
     "text": [
      "0->2->4->6->8->\n"
     ]
    }
   ],
   "source": [
    "ll.printlist()"
   ]
  },
  {
   "cell_type": "code",
   "execution_count": null,
   "id": "5577ddd0",
   "metadata": {},
   "outputs": [],
   "source": []
  }
 ],
 "metadata": {
  "kernelspec": {
   "display_name": "Python 3 (ipykernel)",
   "language": "python",
   "name": "python3"
  },
  "language_info": {
   "codemirror_mode": {
    "name": "ipython",
    "version": 3
   },
   "file_extension": ".py",
   "mimetype": "text/x-python",
   "name": "python",
   "nbconvert_exporter": "python",
   "pygments_lexer": "ipython3",
   "version": "3.9.13"
  }
 },
 "nbformat": 4,
 "nbformat_minor": 5
}
