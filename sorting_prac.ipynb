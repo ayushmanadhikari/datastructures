{
 "cells": [
  {
   "cell_type": "code",
   "execution_count": null,
   "id": "1eed91c9",
   "metadata": {},
   "outputs": [],
   "source": [
    "def mergeSort(arr):\n",
    "    if len(arr) > 1:\n",
    "        length = len(arr)\n",
    "        mid = length//2\n",
    "        L = [:mid]\n",
    "        R = [mid+1:]\n",
    "\n",
    "        mergeSort(L)\n",
    "        mergeSort(R)\n",
    "\n",
    "        ##initializing variables\n",
    "        i=j=k=0\n",
    "\n",
    "\n",
    "        # while both L and R arrays have elements\n",
    "        while i<len(L) and j<len(R):\n",
    "            if L[i]<R[j]:\n",
    "                arr[k] = L[i]\n",
    "                k=k+1\n",
    "                i=i+1\n",
    "            else:\n",
    "                arr[K] = R[j]\n",
    "                k=k+1\n",
    "                j=j+1\n",
    "\n",
    "        # while only left has elements left\n",
    "        while i<len(L):\n",
    "            arr[k] = L[i]\n",
    "            k=k+1\n",
    "            i=i+1\n",
    "\n",
    "        #while only right has elements left\n",
    "        while j<len(R):\n",
    "            arr[k] = R[j]\n",
    "            k=k+1\n",
    "            j=j+1"
   ]
  }
 ],
 "metadata": {
  "kernelspec": {
   "display_name": "Python 3 (ipykernel)",
   "language": "python",
   "name": "python3"
  },
  "language_info": {
   "codemirror_mode": {
    "name": "ipython",
    "version": 3
   },
   "file_extension": ".py",
   "mimetype": "text/x-python",
   "name": "python",
   "nbconvert_exporter": "python",
   "pygments_lexer": "ipython3",
   "version": "3.9.13"
  }
 },
 "nbformat": 4,
 "nbformat_minor": 5
}
