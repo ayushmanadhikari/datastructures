{
 "cells": [
  {
   "cell_type": "code",
   "execution_count": 2,
   "id": "96257d11",
   "metadata": {},
   "outputs": [],
   "source": [
    "#tree"
   ]
  },
  {
   "cell_type": "code",
   "execution_count": 45,
   "id": "a63b0253",
   "metadata": {},
   "outputs": [],
   "source": [
    "class TreeNode:\n",
    "    def __init__(self, data):\n",
    "        self.data = data\n",
    "        self.parent = None\n",
    "        self.children = []\n",
    "    \n",
    "    def add_child(self, child):\n",
    "        child.parent = self\n",
    "        self.children.append(child)\n",
    "    \n",
    "    def get_level(self):\n",
    "        p = self.parent\n",
    "        level = 0\n",
    "        while p:\n",
    "            level = level + 1\n",
    "            p = p.parent\n",
    "        return level\n",
    "        \n",
    "    def print_tree(self):\n",
    "        spaces = \"   \" * self.get_level()\n",
    "        print(f\"{spaces} + {self.data}\")\n",
    "        if self.children:\n",
    "            for child in self.children:\n",
    "                child.print_tree()"
   ]
  },
  {
   "cell_type": "code",
   "execution_count": 46,
   "id": "0be5b8d8",
   "metadata": {},
   "outputs": [],
   "source": [
    "\n",
    "    def print_tree(self):\n",
    "        print(self.data)\n",
    "        for child in self.children:\n",
    "            print(f\"|__ {child.data}\")\n",
    "            for c in child.children:\n",
    "                    print(f\"|__ {c.data}\")"
   ]
  },
  {
   "cell_type": "code",
   "execution_count": 47,
   "id": "ade70b84",
   "metadata": {},
   "outputs": [],
   "source": [
    "def build_product_tree():\n",
    "    root = TreeNode(\"Automobiles\")\n",
    "    \n",
    "    bike = TreeNode(\"Bike\")\n",
    "    bike.add_child(TreeNode(\"Honda\"))\n",
    "    bike.add_child(TreeNode(\"Hayabusha\"))\n",
    "    bike.add_child(TreeNode(\"Yamaha\"))\n",
    "    \n",
    "    car = TreeNode(\"Car\")\n",
    "    car.add_child(TreeNode(\"SUV\"))\n",
    "    car.add_child(TreeNode(\"KUV\"))\n",
    "    car.add_child(TreeNode(\"Jeep\"))\n",
    "    \n",
    "    train = TreeNode(\"Train\")\n",
    "    train.add_child(TreeNode(\"Monorail\"))\n",
    "    train.add_child(TreeNode(\"Bullet Train\"))\n",
    "    train.add_child(TreeNode(\"Coal Train\"))\n",
    "    train.add_child(TreeNode(\"Steam Rail\"))\n",
    "    \n",
    "    root.add_child(train)\n",
    "    root.add_child(bike)\n",
    "    root.add_child(car)\n",
    "    \n",
    "    return root"
   ]
  },
  {
   "cell_type": "code",
   "execution_count": 48,
   "id": "7f9e8882",
   "metadata": {},
   "outputs": [
    {
     "name": "stdout",
     "output_type": "stream",
     "text": [
      " + Automobiles\n",
      "    + Train\n",
      "       + Monorail\n",
      "       + Bullet Train\n",
      "       + Coal Train\n",
      "       + Steam Rail\n",
      "    + Bike\n",
      "       + Honda\n",
      "       + Hayabusha\n",
      "       + Yamaha\n",
      "    + Car\n",
      "       + SUV\n",
      "       + KUV\n",
      "       + Jeep\n"
     ]
    }
   ],
   "source": [
    "root = build_product_tree()\n",
    "root.print_tree()"
   ]
  }
 ],
 "metadata": {
  "kernelspec": {
   "display_name": "Python 3 (ipykernel)",
   "language": "python",
   "name": "python3"
  },
  "language_info": {
   "codemirror_mode": {
    "name": "ipython",
    "version": 3
   },
   "file_extension": ".py",
   "mimetype": "text/x-python",
   "name": "python",
   "nbconvert_exporter": "python",
   "pygments_lexer": "ipython3",
   "version": "3.9.5"
  }
 },
 "nbformat": 4,
 "nbformat_minor": 5
}
