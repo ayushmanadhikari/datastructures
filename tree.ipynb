{
 "cells": [
  {
   "cell_type": "code",
   "execution_count": 50,
   "id": "aa0e34b3",
   "metadata": {},
   "outputs": [],
   "source": [
    "# tree "
   ]
  },
  {
   "cell_type": "code",
   "execution_count": 53,
   "id": "9bbe9f83",
   "metadata": {},
   "outputs": [],
   "source": [
    "class TreeNode:\n",
    "    def __init__(self, data):\n",
    "        self.data = data\n",
    "        self.parent = None\n",
    "        self.children = []\n",
    "    \n",
    "    def add_child(self, child):\n",
    "        child.parent = self\n",
    "        self.children.append(child)\n",
    "    \n",
    "    def get_level(self):\n",
    "        p = self.parent\n",
    "        level = 0\n",
    "        while p:\n",
    "            level = level + 1\n",
    "            p = p.parent\n",
    "        return level\n",
    "        \n",
    "    def print_tree(self):\n",
    "        spaces = \"   \" * self.get_level()\n",
    "        print(f\"{spaces} + {self.data}\")\n",
    "        if self.children:\n",
    "            for child in self.children:\n",
    "                child.print_tree()\n",
    "    \n",
    "    def find_min(self):\n",
    "        if self.left:\n",
    "            self.left.find_min()\n",
    "        else:\n",
    "            return self.data\n",
    "    \n",
    "    def find_sum(self):\n",
    "        if self.left:\n",
    "            left_sum = self.left.find_sum()\n",
    "        else:\n",
    "            left_sum = 0\n",
    "        if self.right:\n",
    "            right_sum = self.right.find_sum()\n",
    "        else:\n",
    "            right_sum = 0\n",
    "        return self.data + left_sum + right_sum\n",
    "    "
   ]
  },
  {
   "cell_type": "code",
   "execution_count": 54,
   "id": "83ade316",
   "metadata": {},
   "outputs": [],
   "source": [
    "def build_product_tree():\n",
    "    root = TreeNode(\"Automobiles\")\n",
    "    \n",
    "    bike = TreeNode(\"Bike\")\n",
    "    bike.add_child(TreeNode(\"Honda\"))\n",
    "    bike.add_child(TreeNode(\"Hayabusha\"))\n",
    "    bike.add_child(TreeNode(\"Yamaha\"))\n",
    "    \n",
    "    car = TreeNode(\"Car\")\n",
    "    car.add_child(TreeNode(\"SUV\"))\n",
    "    car.add_child(TreeNode(\"KUV\"))\n",
    "    car.add_child(TreeNode(\"Jeep\"))\n",
    "    \n",
    "    train = TreeNode(\"Train\")\n",
    "    train.add_child(TreeNode(\"Monorail\"))\n",
    "    train.add_child(TreeNode(\"Bullet Train\"))\n",
    "    train.add_child(TreeNode(\"Coal Train\"))\n",
    "    train.add_child(TreeNode(\"Steam Rail\"))\n",
    "    \n",
    "    root.add_child(train)\n",
    "    root.add_child(bike)\n",
    "    root.add_child(car)\n",
    "    \n",
    "    return root"
   ]
  },
  {
   "cell_type": "code",
   "execution_count": 55,
   "id": "a4665c1c",
   "metadata": {},
   "outputs": [
    {
     "name": "stdout",
     "output_type": "stream",
     "text": [
      " + Automobiles\n",
      "    + Train\n",
      "       + Monorail\n",
      "       + Bullet Train\n",
      "       + Coal Train\n",
      "       + Steam Rail\n",
      "    + Bike\n",
      "       + Honda\n",
      "       + Hayabusha\n",
      "       + Yamaha\n",
      "    + Car\n",
      "       + SUV\n",
      "       + KUV\n",
      "       + Jeep\n"
     ]
    }
   ],
   "source": [
    "root = build_product_tree()\n",
    "root.print_tree()"
   ]
  },
  {
   "cell_type": "code",
   "execution_count": null,
   "id": "9c9faf3a",
   "metadata": {},
   "outputs": [],
   "source": []
  },
  {
   "cell_type": "code",
   "execution_count": null,
   "id": "a4af5145",
   "metadata": {},
   "outputs": [],
   "source": []
  },
  {
   "cell_type": "code",
   "execution_count": 56,
   "id": "4895c261",
   "metadata": {},
   "outputs": [
    {
     "ename": "NameError",
     "evalue": "name 'numbers_tree' is not defined",
     "output_type": "error",
     "traceback": [
      "\u001b[1;31m---------------------------------------------------------------------------\u001b[0m",
      "\u001b[1;31mNameError\u001b[0m                                 Traceback (most recent call last)",
      "\u001b[1;32m~\\AppData\\Local\\Temp/ipykernel_9560/1184937127.py\u001b[0m in \u001b[0;36m<module>\u001b[1;34m\u001b[0m\n\u001b[1;32m----> 1\u001b[1;33m \u001b[0mnumbers_tree\u001b[0m\u001b[1;33m.\u001b[0m\u001b[0mpre_order_traversal\u001b[0m\u001b[1;33m(\u001b[0m\u001b[1;33m)\u001b[0m\u001b[1;33m\u001b[0m\u001b[1;33m\u001b[0m\u001b[0m\n\u001b[0m",
      "\u001b[1;31mNameError\u001b[0m: name 'numbers_tree' is not defined"
     ]
    }
   ],
   "source": [
    "numbers_tree.pre_order_traversal()"
   ]
  },
  {
   "cell_type": "code",
   "execution_count": null,
   "id": "2894a2af",
   "metadata": {},
   "outputs": [],
   "source": []
  }
 ],
 "metadata": {
  "kernelspec": {
   "display_name": "Python 3 (ipykernel)",
   "language": "python",
   "name": "python3"
  },
  "language_info": {
   "codemirror_mode": {
    "name": "ipython",
    "version": 3
   },
   "file_extension": ".py",
   "mimetype": "text/x-python",
   "name": "python",
   "nbconvert_exporter": "python",
   "pygments_lexer": "ipython3",
   "version": "3.9.5"
  }
 },
 "nbformat": 4,
 "nbformat_minor": 5
}
