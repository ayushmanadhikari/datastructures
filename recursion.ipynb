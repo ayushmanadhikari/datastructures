{
 "cells": [
  {
   "cell_type": "code",
   "execution_count": 1,
   "id": "09fb5752",
   "metadata": {},
   "outputs": [],
   "source": [
    "# recusrion fibonnacci"
   ]
  },
  {
   "cell_type": "code",
   "execution_count": 2,
   "id": "4522b377",
   "metadata": {},
   "outputs": [],
   "source": [
    "def fib_recur(n):\n",
    "    if n == 1:\n",
    "        return 1\n",
    "    else:\n",
    "        return (n + fib_recur(n-1))\n"
   ]
  },
  {
   "cell_type": "code",
   "execution_count": 3,
   "id": "2f4cf310",
   "metadata": {},
   "outputs": [
    {
     "data": {
      "text/plain": [
       "15"
      ]
     },
     "execution_count": 3,
     "metadata": {},
     "output_type": "execute_result"
    }
   ],
   "source": [
    "fib_recur(5)"
   ]
  },
  {
   "cell_type": "code",
   "execution_count": null,
   "id": "4ccf80e4",
   "metadata": {},
   "outputs": [],
   "source": []
  }
 ],
 "metadata": {
  "kernelspec": {
   "display_name": "Python 3 (ipykernel)",
   "language": "python",
   "name": "python3"
  },
  "language_info": {
   "codemirror_mode": {
    "name": "ipython",
    "version": 3
   },
   "file_extension": ".py",
   "mimetype": "text/x-python",
   "name": "python",
   "nbconvert_exporter": "python",
   "pygments_lexer": "ipython3",
   "version": "3.9.5"
  }
 },
 "nbformat": 4,
 "nbformat_minor": 5
}
