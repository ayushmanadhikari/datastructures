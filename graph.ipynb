{
 "cells": [
  {
   "cell_type": "code",
   "execution_count": 1,
   "id": "4c7ac6e0",
   "metadata": {},
   "outputs": [],
   "source": [
    "#graph"
   ]
  },
  {
   "cell_type": "code",
   "execution_count": 6,
   "id": "0c71a139",
   "metadata": {},
   "outputs": [],
   "source": [
    "class Graph:\n",
    "    def __init__(self, edges):\n",
    "        self.edges = edges\n",
    "        self.graph_dict = {}\n",
    "        for start, end in self.edges:\n",
    "            if start in self.graph_dict:\n",
    "                self.graph_dict[start].append(end)\n",
    "            else:\n",
    "                self.graph_dict[start] = [end]\n",
    "    \n",
    "    def print_graph(self):\n",
    "        print(self.graph_dict)\n",
    "        \n",
    "    def get_path(self, start, end, path=[]):\n",
    "        if start == end:\n",
    "            path = path + [start]\n",
    "        "
   ]
  },
  {
   "cell_type": "code",
   "execution_count": 7,
   "id": "e5b00990",
   "metadata": {},
   "outputs": [],
   "source": [
    " routes = [\n",
    "        (\"Mumbai\", \"Paris\"),\n",
    "        (\"Mumbai\", \"Dubai\"),\n",
    "        (\"Paris\", \"Dubai\"),\n",
    "        (\"Paris\", \"New York\"),\n",
    "        (\"Dubai\", \"New York\"),\n",
    "        (\"New York\", \"Toronto\"),\n",
    "    ]"
   ]
  },
  {
   "cell_type": "code",
   "execution_count": 8,
   "id": "ebce31bd",
   "metadata": {},
   "outputs": [],
   "source": [
    "graph1 = Graph(routes)"
   ]
  },
  {
   "cell_type": "code",
   "execution_count": 11,
   "id": "f0dffe1c",
   "metadata": {},
   "outputs": [
    {
     "name": "stdout",
     "output_type": "stream",
     "text": [
      "{'Mumbai': ['Paris', 'Dubai'], 'Paris': ['Dubai', 'New York'], 'Dubai': ['New York'], 'New York': ['Toronto']}\n"
     ]
    }
   ],
   "source": [
    "route_graph = graph1.print_graph()"
   ]
  },
  {
   "cell_type": "code",
   "execution_count": null,
   "id": "eaea42aa",
   "metadata": {},
   "outputs": [],
   "source": []
  }
 ],
 "metadata": {
  "kernelspec": {
   "display_name": "Python 3 (ipykernel)",
   "language": "python",
   "name": "python3"
  },
  "language_info": {
   "codemirror_mode": {
    "name": "ipython",
    "version": 3
   },
   "file_extension": ".py",
   "mimetype": "text/x-python",
   "name": "python",
   "nbconvert_exporter": "python",
   "pygments_lexer": "ipython3",
   "version": "3.9.10"
  }
 },
 "nbformat": 4,
 "nbformat_minor": 5
}
