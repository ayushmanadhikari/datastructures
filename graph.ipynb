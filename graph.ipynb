{
 "cells": [
  {
   "cell_type": "code",
   "execution_count": 1,
   "id": "deea34b4",
   "metadata": {},
   "outputs": [],
   "source": [
    "#graph"
   ]
  },
  {
   "cell_type": "code",
   "execution_count": null,
   "id": "115940ed",
   "metadata": {},
   "outputs": [],
   "source": [
    "jt -l"
   ]
  },
  {
   "cell_type": "code",
   "execution_count": 18,
   "id": "676e0daf",
   "metadata": {},
   "outputs": [],
   "source": [
    "class Graph:\n",
    "    def __init__(self, edges):\n",
    "        self.edges = edges\n",
    "        self.graph_dict = {}\n",
    "        for start, end in self.edges:\n",
    "            if start in self.graph_dict:\n",
    "                self.graph_dict[start].append(end)\n",
    "            else:\n",
    "                self.graph_dict[start] = [end]\n",
    "    \n",
    "    def print_graph(self):\n",
    "        print(self.graph_dict)\n",
    "        \n",
    "        \n",
    "    def get_path(self, start, end, path=[]):\n",
    "        path = path + [start]\n",
    "        \n",
    "        #base condition when the start reaches to end\n",
    "        if start == end:\n",
    "            return [path]\n",
    "        \n",
    "        #if there is no path to the given end\n",
    "        if start not in self.graph_dict:\n",
    "            return []\n",
    "        \n",
    "        \n",
    "        paths = []\n",
    "        for node in self.graph_dict[start]:\n",
    "            #recursive call my taking the next node in the graph as start node and repeat the process again\n",
    "            new_paths = self.get_path(node, end, path)\n",
    "            for p in new_paths:\n",
    "                paths.append(p)\n",
    "            \n",
    "        return paths"
   ]
  },
  {
   "cell_type": "code",
   "execution_count": 19,
   "id": "ec6f2233",
   "metadata": {},
   "outputs": [],
   "source": [
    " routes = [\n",
    "        (\"Mumbai\", \"Paris\"),\n",
    "        (\"Mumbai\", \"Dubai\"),\n",
    "        (\"Paris\", \"Dubai\"),\n",
    "        (\"Paris\", \"New York\"),\n",
    "        (\"Dubai\", \"New York\"),\n",
    "        (\"New York\", \"Toronto\"),\n",
    "    ]"
   ]
  },
  {
   "cell_type": "code",
   "execution_count": 20,
   "id": "9b018f2e",
   "metadata": {},
   "outputs": [],
   "source": [
    "graph1 = Graph(routes)"
   ]
  },
  {
   "cell_type": "code",
   "execution_count": 21,
   "id": "e236875b",
   "metadata": {},
   "outputs": [
    {
     "name": "stdout",
     "output_type": "stream",
     "text": [
      "{'Mumbai': ['Paris', 'Dubai'], 'Paris': ['Dubai', 'New York'], 'Dubai': ['New York'], 'New York': ['Toronto']}\n"
     ]
    }
   ],
   "source": [
    "route_graph = graph1.print_graph()"
   ]
  },
  {
   "cell_type": "code",
   "execution_count": 22,
   "id": "cf0ab4c2",
   "metadata": {},
   "outputs": [
    {
     "data": {
      "text/plain": [
       "[['Mumbai', 'Paris', 'Dubai', 'New York'],\n",
       " ['Mumbai', 'Paris', 'New York'],\n",
       " ['Mumbai', 'Dubai', 'New York']]"
      ]
     },
     "execution_count": 22,
     "metadata": {},
     "output_type": "execute_result"
    }
   ],
   "source": [
    "graph1.get_path('Mumbai', 'New York')"
   ]
  },
  {
   "cell_type": "code",
   "execution_count": null,
   "id": "04a171dd",
   "metadata": {},
   "outputs": [],
   "source": []
  }
 ],
 "metadata": {
  "kernelspec": {
   "display_name": "Python 3 (ipykernel)",
   "language": "python",
   "name": "python3"
  },
  "language_info": {
   "codemirror_mode": {
    "name": "ipython",
    "version": 3
   },
   "file_extension": ".py",
   "mimetype": "text/x-python",
   "name": "python",
   "nbconvert_exporter": "python",
   "pygments_lexer": "ipython3",
   "version": "3.9.10"
  }
 },
 "nbformat": 4,
 "nbformat_minor": 5
}
