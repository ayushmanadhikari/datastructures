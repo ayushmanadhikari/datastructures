{
 "cells": [
  {
   "cell_type": "code",
   "execution_count": 1,
   "id": "700a3a06",
   "metadata": {},
   "outputs": [],
   "source": [
    "# binary serach tree"
   ]
  },
  {
   "cell_type": "code",
   "execution_count": 73,
   "id": "5c79475f",
   "metadata": {},
   "outputs": [],
   "source": [
    "class BinarySearchTree:\n",
    "    def __init__(self, data):\n",
    "        self.data = data\n",
    "        self.left = None\n",
    "        self.right = None\n",
    "    \n",
    "    def add_child(self, data):\n",
    "        if data == self.data:\n",
    "            return\n",
    "        if data<self.data:\n",
    "            # add this value to left sub tree\n",
    "            if self.left:     #there exists left subtree\n",
    "                self.left.add_child(data)\n",
    "            else:             # there is no left node/subtree    \n",
    "                self.left = BinarySearchTree(data)\n",
    "        if data > self.data:\n",
    "            if self.right:\n",
    "                self.right.add_child(data)\n",
    "            else:\n",
    "                self.right = BinarySearchTree(data)\n",
    "        \n",
    "    \n",
    "    def search_tree(self, value):\n",
    "        if value == self.data:\n",
    "            return True\n",
    "        if value < self.data:\n",
    "            if self.left:\n",
    "                return self.left.search_tree(value)\n",
    "            else:\n",
    "                return False\n",
    "        if value > self.data:\n",
    "            if self.right:\n",
    "                return self.right.search_tree(value)\n",
    "            else:\n",
    "                return False\n",
    "        \n",
    "    def in_order_traversal(self):\n",
    "        elements = []\n",
    "        #visit left node\n",
    "        if self.left:\n",
    "            elements += self.left.in_order_traversal()\n",
    "        # visit base node\n",
    "        elements.append(self.data)\n",
    "        #visit right node\n",
    "        if self.right:\n",
    "            elements += self.right.in_order_traversal()\n",
    "            \n",
    "        return elements\n",
    "    \n",
    "    def find_min(self):\n",
    "        elements = self.in_order_traversal()\n",
    "        minimum = elements[0]\n",
    "        return minimum\n",
    "    \n",
    "    def find_max(self):\n",
    "        if self.right is None:\n",
    "            return self.data\n",
    "        else:\n",
    "            self.right.find_max()\n",
    "    \n",
    "    def find_sum(self):\n",
    "        left_sum = self.left.find_sum() if self.left else 0\n",
    "        right_sum = self.right.find_sum() if self.right else 0\n",
    "        total = self.data + left_sum + right_sum\n",
    "        return total\n",
    "    \n",
    "    def post_order_traversal(self):\n",
    "        elements = []\n",
    "        #visit left node\n",
    "        if self.left:\n",
    "            elements = elements + self.left.post_order_traversal()\n",
    "        #traverse right node\n",
    "        if self.right:\n",
    "            elements = elements + self.right.post_order_traversal()\n",
    "        #visiting base node\n",
    "        elements.append(self.data)\n",
    "        return elements\n",
    "    \n",
    "    \n",
    "    def pre_order_traversal(self):\n",
    "        elements = []\n",
    "        elements.append(self.data)\n",
    "        if self.left:\n",
    "            elements = elements + self.left.pre_order_traversal()\n",
    "        if self.right:\n",
    "            elements = elements + self.right.pre_order_traversal()\n",
    "        \n",
    "        return elements\n",
    "    \n",
    "    def delete_node(self, val):\n",
    "        if val < self.data:\n",
    "            if self.left:\n",
    "                self.left = self.left.delete_node(val)\n",
    "        if val > self.data:\n",
    "            if self.right:\n",
    "                self.left = self.right.delete_node(val)\n",
    "        if val == self.data:\n",
    "            if self.left is None and self.right is None:\n",
    "                return None\n",
    "            if self.left is None:\n",
    "                return self.right\n",
    "            if self.right is None:\n",
    "                return self.left\n",
    "            \n",
    "            min_val = self.right.find_min()\n",
    "            self.data = min_val\n",
    "            self.right = self.right.delete_node(min_val)\n",
    "            \n",
    "            return self"
   ]
  },
  {
   "cell_type": "code",
   "execution_count": 64,
   "id": "78c26d30",
   "metadata": {},
   "outputs": [],
   "source": [
    "def build_tree(elements):\n",
    "    root = BinarySearchTree(elements[0])\n",
    "    for i in range(1, len(elements)):\n",
    "        root.add_child(elements[i])\n",
    "    \n",
    "    return root"
   ]
  },
  {
   "cell_type": "code",
   "execution_count": 65,
   "id": "6a132a97",
   "metadata": {},
   "outputs": [],
   "source": [
    "numbers = [1,2,66,4,6,66,25,53,45]\n",
    "numbers_tree = build_tree(numbers)"
   ]
  },
  {
   "cell_type": "code",
   "execution_count": 66,
   "id": "7b2135d8",
   "metadata": {
    "scrolled": true
   },
   "outputs": [
    {
     "name": "stdout",
     "output_type": "stream",
     "text": [
      "[1, 2, 4, 6, 25, 45, 53, 66]\n"
     ]
    }
   ],
   "source": [
    "print(numbers_tree.in_order_traversal())"
   ]
  },
  {
   "cell_type": "code",
   "execution_count": 67,
   "id": "41f79e33",
   "metadata": {},
   "outputs": [
    {
     "data": {
      "text/plain": [
       "[1, 2, 4, 6, 25, 45, 53, 66]"
      ]
     },
     "execution_count": 67,
     "metadata": {},
     "output_type": "execute_result"
    }
   ],
   "source": [
    "numbers_tree.in_order_traversal()"
   ]
  },
  {
   "cell_type": "code",
   "execution_count": 68,
   "id": "26512957",
   "metadata": {},
   "outputs": [
    {
     "data": {
      "text/plain": [
       "True"
      ]
     },
     "execution_count": 68,
     "metadata": {},
     "output_type": "execute_result"
    }
   ],
   "source": [
    "numbers_tree.search_tree(2)"
   ]
  },
  {
   "cell_type": "code",
   "execution_count": 69,
   "id": "e7d9bf33",
   "metadata": {},
   "outputs": [
    {
     "data": {
      "text/plain": [
       "1"
      ]
     },
     "execution_count": 69,
     "metadata": {},
     "output_type": "execute_result"
    }
   ],
   "source": [
    "numbers_tree.find_min()"
   ]
  },
  {
   "cell_type": "code",
   "execution_count": 70,
   "id": "3f380055",
   "metadata": {},
   "outputs": [
    {
     "data": {
      "text/plain": [
       "202"
      ]
     },
     "execution_count": 70,
     "metadata": {},
     "output_type": "execute_result"
    }
   ],
   "source": [
    "numbers_tree.find_sum()"
   ]
  },
  {
   "cell_type": "code",
   "execution_count": 71,
   "id": "24b23022",
   "metadata": {},
   "outputs": [
    {
     "data": {
      "text/plain": [
       "[45, 53, 25, 6, 4, 66, 2, 1]"
      ]
     },
     "execution_count": 71,
     "metadata": {},
     "output_type": "execute_result"
    }
   ],
   "source": [
    "numbers_tree.post_order_traversal()"
   ]
  },
  {
   "cell_type": "code",
   "execution_count": 72,
   "id": "0f933f06",
   "metadata": {},
   "outputs": [
    {
     "data": {
      "text/plain": [
       "[1, 2, 66, 4, 6, 25, 53, 45]"
      ]
     },
     "execution_count": 72,
     "metadata": {},
     "output_type": "execute_result"
    }
   ],
   "source": [
    "numbers_tree.pre_order_traversal()"
   ]
  },
  {
   "cell_type": "code",
   "execution_count": null,
   "id": "c0ea0f6e",
   "metadata": {},
   "outputs": [],
   "source": []
  }
 ],
 "metadata": {
  "kernelspec": {
   "display_name": "Python 3 (ipykernel)",
   "language": "python",
   "name": "python3"
  },
  "language_info": {
   "codemirror_mode": {
    "name": "ipython",
    "version": 3
   },
   "file_extension": ".py",
   "mimetype": "text/x-python",
   "name": "python",
   "nbconvert_exporter": "python",
   "pygments_lexer": "ipython3",
   "version": "3.9.5"
  }
 },
 "nbformat": 4,
 "nbformat_minor": 5
}
