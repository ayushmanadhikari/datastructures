{
 "cells": [
  {
   "cell_type": "code",
   "execution_count": 1,
   "id": "c0bfcc12",
   "metadata": {},
   "outputs": [],
   "source": [
    "# binary serach tree"
   ]
  },
  {
   "cell_type": "code",
   "execution_count": 307,
   "id": "8f454531",
   "metadata": {},
   "outputs": [],
   "source": [
    "class BinarySearchTree:\n",
    "    def __init__(self, data):\n",
    "        self.data = data\n",
    "        self.left = None\n",
    "        self.right = None\n",
    "    \n",
    "    def add_child(self, data):\n",
    "        if data == self.data:\n",
    "            return\n",
    "        if data<self.data:\n",
    "            # add this value to left sub tree\n",
    "            if self.left:     #there exists left subtree\n",
    "                self.left.add_child(data)\n",
    "            else:             # there is no left node/subtree    \n",
    "                self.left = BinarySearchTree(data)\n",
    "        if data > self.data:\n",
    "            if self.right:\n",
    "                self.right.add_child(data)\n",
    "            else:\n",
    "                self.right = BinarySearchTree(data)\n",
    "        \n",
    "    \n",
    "    def search_tree(self, value):\n",
    "        if value == self.data:\n",
    "            return True\n",
    "        if value < self.data:\n",
    "            if self.left:\n",
    "                return self.left.search_tree(value)\n",
    "            else:\n",
    "                return False\n",
    "        if value > self.data:\n",
    "            if self.right:\n",
    "                return self.right.search_tree(value)\n",
    "            else:\n",
    "                return False\n",
    "        \n",
    "    def in_order_traversal(self):\n",
    "        elements = []\n",
    "        #visit left node\n",
    "        if self.left:\n",
    "            elements += self.left.in_order_traversal()\n",
    "        # visit base node\n",
    "        elements.append(self.data)\n",
    "        #visit right node\n",
    "        if self.right:\n",
    "            elements += self.right.in_order_traversal()\n",
    "            \n",
    "        return elements\n",
    "    \n",
    "    def find_min(self):\n",
    "        elements = self.in_order_traversal()\n",
    "        minimum = elements[0]\n",
    "        return minimum\n",
    "    \n",
    "    def find_max(self):\n",
    "        if self.right is None:\n",
    "            return self.data\n",
    "        else:\n",
    "            self.right.find_max()\n",
    "    \n",
    "    def find_sum(self):\n",
    "        left_sum = self.left.find_sum() if self.left else 0\n",
    "        right_sum = self.right.find_sum() if self.right else 0\n",
    "        total = self.data + left_sum + right_sum\n",
    "        return total\n",
    "    \n",
    "    def post_order_traversal(self):\n",
    "        elements = []\n",
    "        #visit left node\n",
    "        if self.left:\n",
    "            elements = elements + self.left.post_order_traversal()\n",
    "        #traverse right node\n",
    "        if self.right:\n",
    "            elements = elements + self.right.post_order_traversal()\n",
    "        #visiting base node\n",
    "        elements.append(self.data)\n",
    "        return elements\n",
    "    \n",
    "    \n",
    "    def pre_order_traversal(self):\n",
    "        elements = []\n",
    "        elements.append(self.data)\n",
    "        if self.left:\n",
    "            elements = elements + self.left.pre_order_traversal()\n",
    "        if self.right:\n",
    "            elements = elements + self.right.pre_order_traversal()\n",
    "        \n",
    "        return elements\n",
    "    \n",
    "    def delete(self, val):\n",
    "        if val < self.data:\n",
    "            if self.left:\n",
    "                self.left = self.left.delete(val)\n",
    "        elif val > self.data:\n",
    "            if self.right:\n",
    "                self.right = self.right.delete(val)\n",
    "        else:\n",
    "            if self.left is None and self.right is None:\n",
    "                return None\n",
    "            elif self.left is None:\n",
    "                return self.right\n",
    "            elif self.right is None:\n",
    "                return self.left\n",
    "            \n",
    "            min_val = self.right.find_min()\n",
    "            self.data = min_val\n",
    "            self.right = self.right.delete(min_val)\n",
    "            \n",
    "        return self"
   ]
  },
  {
   "cell_type": "code",
   "execution_count": 308,
   "id": "ecc1a9c6",
   "metadata": {},
   "outputs": [],
   "source": [
    "def build_tree(elements):\n",
    "    root = BinarySearchTree(elements[0])\n",
    "    for i in range(1, len(elements)):\n",
    "        root.add_child(elements[i])\n",
    "    \n",
    "    return root"
   ]
  },
  {
   "cell_type": "code",
   "execution_count": 309,
   "id": "db0a87be",
   "metadata": {},
   "outputs": [],
   "source": [
    "numbers = [17, 4, 1, 20, 9, 23, 18, 34]\n",
    "numbers_tree = build_tree(numbers)"
   ]
  },
  {
   "cell_type": "code",
   "execution_count": 310,
   "id": "93ea7776",
   "metadata": {},
   "outputs": [
    {
     "data": {
      "text/plain": [
       "[1, 4, 9, 17, 18, 20, 23, 34]"
      ]
     },
     "execution_count": 310,
     "metadata": {},
     "output_type": "execute_result"
    }
   ],
   "source": [
    "numbers_tree.in_order_traversal()"
   ]
  },
  {
   "cell_type": "code",
   "execution_count": 333,
   "id": "3c3e347a",
   "metadata": {},
   "outputs": [],
   "source": [
    "numbers_tree.delete(18)"
   ]
  },
  {
   "cell_type": "code",
   "execution_count": 334,
   "id": "07721e1b",
   "metadata": {},
   "outputs": [
    {
     "data": {
      "text/plain": [
       "[18]"
      ]
     },
     "execution_count": 334,
     "metadata": {},
     "output_type": "execute_result"
    }
   ],
   "source": [
    "numbers_tree.in_order_traversal()"
   ]
  },
  {
   "cell_type": "code",
   "execution_count": 276,
   "id": "29194b23",
   "metadata": {
    "scrolled": true
   },
   "outputs": [
    {
     "name": "stdout",
     "output_type": "stream",
     "text": [
      "[1, 4, 9, 17, 18, 20, 23, 34]\n"
     ]
    }
   ],
   "source": [
    "print(numbers_tree.in_order_traversal())"
   ]
  },
  {
   "cell_type": "code",
   "execution_count": 277,
   "id": "e61d7993",
   "metadata": {},
   "outputs": [
    {
     "data": {
      "text/plain": [
       "[1, 4, 9, 17, 18, 20, 23, 34]"
      ]
     },
     "execution_count": 277,
     "metadata": {},
     "output_type": "execute_result"
    }
   ],
   "source": [
    "numbers_tree.in_order_traversal()"
   ]
  },
  {
   "cell_type": "code",
   "execution_count": 267,
   "id": "e465c959",
   "metadata": {},
   "outputs": [
    {
     "data": {
      "text/plain": [
       "False"
      ]
     },
     "execution_count": 267,
     "metadata": {},
     "output_type": "execute_result"
    }
   ],
   "source": [
    "numbers_tree.search_tree(2)"
   ]
  },
  {
   "cell_type": "code",
   "execution_count": 268,
   "id": "1b5a8942",
   "metadata": {},
   "outputs": [
    {
     "data": {
      "text/plain": [
       "1"
      ]
     },
     "execution_count": 268,
     "metadata": {},
     "output_type": "execute_result"
    }
   ],
   "source": [
    "numbers_tree.find_min()"
   ]
  },
  {
   "cell_type": "code",
   "execution_count": 269,
   "id": "78832a20",
   "metadata": {},
   "outputs": [
    {
     "data": {
      "text/plain": [
       "126"
      ]
     },
     "execution_count": 269,
     "metadata": {},
     "output_type": "execute_result"
    }
   ],
   "source": [
    "numbers_tree.find_sum()"
   ]
  },
  {
   "cell_type": "code",
   "execution_count": 270,
   "id": "47fa183c",
   "metadata": {},
   "outputs": [
    {
     "data": {
      "text/plain": [
       "[1, 9, 4, 18, 34, 23, 20, 17]"
      ]
     },
     "execution_count": 270,
     "metadata": {},
     "output_type": "execute_result"
    }
   ],
   "source": [
    "numbers_tree.post_order_traversal()"
   ]
  },
  {
   "cell_type": "code",
   "execution_count": 271,
   "id": "e3aab617",
   "metadata": {},
   "outputs": [
    {
     "data": {
      "text/plain": [
       "[17, 4, 1, 9, 20, 18, 23, 34]"
      ]
     },
     "execution_count": 271,
     "metadata": {},
     "output_type": "execute_result"
    }
   ],
   "source": [
    "numbers_tree.pre_order_traversal()"
   ]
  },
  {
   "cell_type": "code",
   "execution_count": null,
   "id": "ed64eaf6",
   "metadata": {},
   "outputs": [],
   "source": []
  },
  {
   "cell_type": "code",
   "execution_count": 272,
   "id": "7e4fd8e2",
   "metadata": {},
   "outputs": [
    {
     "data": {
      "text/plain": [
       "[1, 4, 9, 17, 18, 20, 23, 34]"
      ]
     },
     "execution_count": 272,
     "metadata": {},
     "output_type": "execute_result"
    }
   ],
   "source": [
    "numbers_tree.in_order_traversal()"
   ]
  },
  {
   "cell_type": "code",
   "execution_count": 273,
   "id": "4dc635d3",
   "metadata": {},
   "outputs": [],
   "source": [
    "numbers_tree.delete(23)"
   ]
  },
  {
   "cell_type": "code",
   "execution_count": 274,
   "id": "febb9820",
   "metadata": {},
   "outputs": [
    {
     "data": {
      "text/plain": [
       "[1, 4, 9, 17]"
      ]
     },
     "execution_count": 274,
     "metadata": {},
     "output_type": "execute_result"
    }
   ],
   "source": [
    "numbers_tree.in_order_traversal()"
   ]
  },
  {
   "cell_type": "code",
   "execution_count": null,
   "id": "2cd8f7a1",
   "metadata": {},
   "outputs": [],
   "source": []
  },
  {
   "cell_type": "code",
   "execution_count": null,
   "id": "e598a589",
   "metadata": {},
   "outputs": [],
   "source": []
  }
 ],
 "metadata": {
  "kernelspec": {
   "display_name": "Python 3 (ipykernel)",
   "language": "python",
   "name": "python3"
  },
  "language_info": {
   "codemirror_mode": {
    "name": "ipython",
    "version": 3
   },
   "file_extension": ".py",
   "mimetype": "text/x-python",
   "name": "python",
   "nbconvert_exporter": "python",
   "pygments_lexer": "ipython3",
   "version": "3.9.5"
  }
 },
 "nbformat": 4,
 "nbformat_minor": 5
}
