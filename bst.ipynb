{
 "cells": [
  {
   "cell_type": "code",
   "execution_count": 1,
   "id": "54209809",
   "metadata": {},
   "outputs": [],
   "source": [
    "# binary serach tree"
   ]
  },
  {
   "cell_type": "code",
   "execution_count": 307,
   "id": "10c7911d",
   "metadata": {},
   "outputs": [],
   "source": [
    "class BinarySearchTree:\n",
    "    def __init__(self, data):\n",
    "        self.data = data\n",
    "        self.left = None\n",
    "        self.right = None\n",
    "    \n",
    "    def add_child(self, data):\n",
    "        if data == self.data:\n",
    "            return\n",
    "        if data<self.data:\n",
    "            # add this value to left sub tree\n",
    "            if self.left:     #there exists left subtree\n",
    "                self.left.add_child(data)\n",
    "            else:             # there is no left node/subtree    \n",
    "                self.left = BinarySearchTree(data)\n",
    "        if data > self.data:\n",
    "            if self.right:\n",
    "                self.right.add_child(data)\n",
    "            else:\n",
    "                self.right = BinarySearchTree(data)\n",
    "        \n",
    "    def search_tree(self, value):\n",
    "        if value == self.data:\n",
    "            return True\n",
    "        if value < self.data:\n",
    "            if self.left:\n",
    "                return self.left.search_tree(value)\n",
    "            else:\n",
    "                return False\n",
    "        if value > self.data:\n",
    "            if self.right:\n",
    "                return self.right.search_tree(value)\n",
    "            else:\n",
    "                return False\n",
    "        \n",
    "    def in_order_traversal(self):\n",
    "        elements = []\n",
    "        #visit left node\n",
    "        if self.left:\n",
    "            elements += self.left.in_order_traversal()\n",
    "        # visit base node\n",
    "        elements.append(self.data)\n",
    "        #visit right node\n",
    "        if self.right:\n",
    "            elements += self.right.in_order_traversal()\n",
    "            \n",
    "        return elements\n",
    "    \n",
    "    def find_min(self):\n",
    "        elements = self.in_order_traversal()\n",
    "        minimum = elements[0]\n",
    "        return minimum\n",
    "    \n",
    "    def find_max(self):\n",
    "        if self.right is None:\n",
    "            return self.data\n",
    "        else:\n",
    "            self.right.find_max()\n",
    "    \n",
    "    def find_sum(self):\n",
    "        left_sum = self.left.find_sum() if self.left else 0\n",
    "        right_sum = self.right.find_sum() if self.right else 0\n",
    "        total = self.data + left_sum + right_sum\n",
    "        return total\n",
    "    \n",
    "    def post_order_traversal(self):\n",
    "        elements = []\n",
    "        #visit left node\n",
    "        if self.left:\n",
    "            elements = elements + self.left.post_order_traversal()\n",
    "        #traverse right node\n",
    "        if self.right:\n",
    "            elements = elements + self.right.post_order_traversal()\n",
    "        #visiting base node\n",
    "        elements.append(self.data)\n",
    "        return elements\n",
    "    \n",
    "    \n",
    "    def pre_order_traversal(self):\n",
    "        elements = []\n",
    "        elements.append(self.data)\n",
    "        if self.left:\n",
    "            elements = elements + self.left.pre_order_traversal()\n",
    "        if self.right:\n",
    "            elements = elements + self.right.pre_order_traversal()\n",
    "        \n",
    "        return elements\n",
    "    \n",
    "    def delete(self, val):\n",
    "        if val < self.data:\n",
    "            if self.left:\n",
    "                self.left = self.left.delete(val)\n",
    "        elif val > self.data:\n",
    "            if self.right:\n",
    "                self.right = self.right.delete(val)\n",
    "        else:\n",
    "            if self.left is None and self.right is None:\n",
    "                return None\n",
    "            elif self.left is None:\n",
    "                return self.right\n",
    "            elif self.right is None:\n",
    "                return self.left\n",
    "            \n",
    "            min_val = self.right.find_min()\n",
    "            self.data = min_val\n",
    "            self.right = self.right.delete(min_val)\n",
    "            \n",
    "        return self"
   ]
  },
  {
   "cell_type": "code",
   "execution_count": 308,
   "id": "58cce166",
   "metadata": {},
   "outputs": [],
   "source": [
    "def build_tree(elements):\n",
    "    root = BinarySearchTree(elements[0])\n",
    "    for i in range(1, len(elements)):\n",
    "        root.add_child(elements[i])\n",
    "    \n",
    "    return root"
   ]
  },
  {
   "cell_type": "code",
   "execution_count": 335,
   "id": "ffddaa43",
   "metadata": {},
   "outputs": [],
   "source": [
    "numbers = [17, 4, 1, 20, 9, 23, 18, 34]\n",
    "numbers_tree = build_tree(numbers)"
   ]
  },
  {
   "cell_type": "code",
   "execution_count": 336,
   "id": "8b9e69da",
   "metadata": {},
   "outputs": [
    {
     "data": {
      "text/plain": [
       "[1, 4, 9, 17, 18, 20, 23, 34]"
      ]
     },
     "execution_count": 336,
     "metadata": {},
     "output_type": "execute_result"
    }
   ],
   "source": [
    "numbers_tree.in_order_traversal()"
   ]
  },
  {
   "cell_type": "code",
   "execution_count": 337,
   "id": "fa2b9a1c",
   "metadata": {},
   "outputs": [
    {
     "data": {
      "text/plain": [
       "<__main__.BinarySearchTree at 0x1ddc80f2e50>"
      ]
     },
     "execution_count": 337,
     "metadata": {},
     "output_type": "execute_result"
    }
   ],
   "source": [
    "numbers_tree.delete(18)"
   ]
  },
  {
   "cell_type": "code",
   "execution_count": 338,
   "id": "b31e8d64",
   "metadata": {},
   "outputs": [
    {
     "data": {
      "text/plain": [
       "[1, 4, 9, 17, 20, 23, 34]"
      ]
     },
     "execution_count": 338,
     "metadata": {},
     "output_type": "execute_result"
    }
   ],
   "source": [
    "numbers_tree.in_order_traversal()"
   ]
  },
  {
   "cell_type": "code",
   "execution_count": 276,
   "id": "7a32e196",
   "metadata": {
    "scrolled": true
   },
   "outputs": [
    {
     "name": "stdout",
     "output_type": "stream",
     "text": [
      "[1, 4, 9, 17, 18, 20, 23, 34]\n"
     ]
    }
   ],
   "source": [
    "print(numbers_tree.in_order_traversal())"
   ]
  },
  {
   "cell_type": "code",
   "execution_count": 277,
   "id": "776fe011",
   "metadata": {},
   "outputs": [
    {
     "data": {
      "text/plain": [
       "[1, 4, 9, 17, 18, 20, 23, 34]"
      ]
     },
     "execution_count": 277,
     "metadata": {},
     "output_type": "execute_result"
    }
   ],
   "source": [
    "numbers_tree.in_order_traversal()"
   ]
  },
  {
   "cell_type": "code",
   "execution_count": 267,
   "id": "c59dad3c",
   "metadata": {},
   "outputs": [
    {
     "data": {
      "text/plain": [
       "False"
      ]
     },
     "execution_count": 267,
     "metadata": {},
     "output_type": "execute_result"
    }
   ],
   "source": [
    "numbers_tree.search_tree(2)"
   ]
  },
  {
   "cell_type": "code",
   "execution_count": 268,
   "id": "fc28ec5c",
   "metadata": {},
   "outputs": [
    {
     "data": {
      "text/plain": [
       "1"
      ]
     },
     "execution_count": 268,
     "metadata": {},
     "output_type": "execute_result"
    }
   ],
   "source": [
    "numbers_tree.find_min()"
   ]
  },
  {
   "cell_type": "code",
   "execution_count": 269,
   "id": "ef69d238",
   "metadata": {},
   "outputs": [
    {
     "data": {
      "text/plain": [
       "126"
      ]
     },
     "execution_count": 269,
     "metadata": {},
     "output_type": "execute_result"
    }
   ],
   "source": [
    "numbers_tree.find_sum()"
   ]
  },
  {
   "cell_type": "code",
   "execution_count": 270,
   "id": "79d9cab0",
   "metadata": {},
   "outputs": [
    {
     "data": {
      "text/plain": [
       "[1, 9, 4, 18, 34, 23, 20, 17]"
      ]
     },
     "execution_count": 270,
     "metadata": {},
     "output_type": "execute_result"
    }
   ],
   "source": [
    "numbers_tree.post_order_traversal()"
   ]
  },
  {
   "cell_type": "code",
   "execution_count": 271,
   "id": "c2085aca",
   "metadata": {},
   "outputs": [
    {
     "data": {
      "text/plain": [
       "[17, 4, 1, 9, 20, 18, 23, 34]"
      ]
     },
     "execution_count": 271,
     "metadata": {},
     "output_type": "execute_result"
    }
   ],
   "source": [
    "numbers_tree.pre_order_traversal()"
   ]
  },
  {
   "cell_type": "code",
   "execution_count": null,
   "id": "40a59cc7",
   "metadata": {},
   "outputs": [],
   "source": []
  },
  {
   "cell_type": "code",
   "execution_count": 272,
   "id": "4e3b45bd",
   "metadata": {},
   "outputs": [
    {
     "data": {
      "text/plain": [
       "[1, 4, 9, 17, 18, 20, 23, 34]"
      ]
     },
     "execution_count": 272,
     "metadata": {},
     "output_type": "execute_result"
    }
   ],
   "source": [
    "numbers_tree.in_order_traversal()"
   ]
  },
  {
   "cell_type": "code",
   "execution_count": 273,
   "id": "cd698450",
   "metadata": {},
   "outputs": [],
   "source": [
    "numbers_tree.delete(23)"
   ]
  },
  {
   "cell_type": "code",
   "execution_count": 274,
   "id": "e5fe1f5a",
   "metadata": {},
   "outputs": [
    {
     "data": {
      "text/plain": [
       "[1, 4, 9, 17]"
      ]
     },
     "execution_count": 274,
     "metadata": {},
     "output_type": "execute_result"
    }
   ],
   "source": [
    "numbers_tree.in_order_traversal()"
   ]
  },
  {
   "cell_type": "code",
   "execution_count": null,
   "id": "a5d24985",
   "metadata": {},
   "outputs": [],
   "source": []
  },
  {
   "cell_type": "code",
   "execution_count": null,
   "id": "a85a501e",
   "metadata": {},
   "outputs": [],
   "source": []
  }
 ],
 "metadata": {
  "kernelspec": {
   "display_name": "Python 3 (ipykernel)",
   "language": "python",
   "name": "python3"
  },
  "language_info": {
   "codemirror_mode": {
    "name": "ipython",
    "version": 3
   },
   "file_extension": ".py",
   "mimetype": "text/x-python",
   "name": "python",
   "nbconvert_exporter": "python",
   "pygments_lexer": "ipython3",
   "version": "3.9.5"
  }
 },
 "nbformat": 4,
 "nbformat_minor": 5
}
