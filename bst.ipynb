{
 "cells": [
  {
   "cell_type": "code",
   "execution_count": 1,
   "id": "fb707b9f",
   "metadata": {},
   "outputs": [],
   "source": [
    "# binary serach tree"
   ]
  },
  {
   "cell_type": "code",
   "execution_count": 50,
   "id": "6974f83b",
   "metadata": {},
   "outputs": [],
   "source": [
    "class BinarySearchTree:\n",
    "    def __init__(self, data):\n",
    "        self.data = data\n",
    "        self.left = None\n",
    "        self.right = None\n",
    "    \n",
    "    def add_child(self, data):\n",
    "        if data == self.data:\n",
    "            return\n",
    "        elif data<self.data:\n",
    "            # add this value to left sub tree\n",
    "            if self.left:     #there exists left subtree\n",
    "                self.left.add_child(data)\n",
    "            else:             # there is no left node/subtree    \n",
    "                self.left = BinarySearchTree(data)\n",
    "        elif data > self.data:\n",
    "            if self.right:\n",
    "                self.right.add_child(data)\n",
    "            else:\n",
    "                self.right = BinarySearchTree(data)\n",
    "    \n",
    "    def search(self, value):\n",
    "        if self.data == value:\n",
    "            return True\n",
    "        \n",
    "        if value < self.data:\n",
    "            if self.left:\n",
    "                self.left.search(value)\n",
    "            else:\n",
    "                return False\n",
    "        if value > self.data:\n",
    "            if self.right:\n",
    "                self.right.search(value)\n",
    "            else: \n",
    "                return False\n",
    "        \n",
    "    def in_order_traversal(self):\n",
    "        elements = []\n",
    "        #visit left node\n",
    "        if self.left:\n",
    "            elements += self.left.in_order_traversal()\n",
    "        # visit base node\n",
    "        elements.append(self.data)\n",
    "        #visit right node\n",
    "        if self.right:\n",
    "            elements += self.right.in_order_traversal()\n",
    "            \n",
    "        return elements"
   ]
  },
  {
   "cell_type": "code",
   "execution_count": 51,
   "id": "e838bdd5",
   "metadata": {},
   "outputs": [],
   "source": [
    "def build_tree(elements):\n",
    "    root = BinarySearchTree(elements[0])\n",
    "    for i in range(1, len(elements)):\n",
    "        root.add_child(elements[i])\n",
    "    \n",
    "    return root"
   ]
  },
  {
   "cell_type": "code",
   "execution_count": 52,
   "id": "158169a7",
   "metadata": {},
   "outputs": [],
   "source": [
    "numbers = [1,2,66,4,6,66,23,53,45]\n",
    "numbers_tree = build_tree(numbers)"
   ]
  },
  {
   "cell_type": "code",
   "execution_count": 53,
   "id": "d259a8fe",
   "metadata": {
    "scrolled": true
   },
   "outputs": [
    {
     "name": "stdout",
     "output_type": "stream",
     "text": [
      "[1, 2, 4, 6, 23, 45, 53, 66]\n"
     ]
    }
   ],
   "source": [
    "print(numbers_tree.in_order_traversal())"
   ]
  },
  {
   "cell_type": "code",
   "execution_count": 57,
   "id": "1a1c756c",
   "metadata": {},
   "outputs": [
    {
     "name": "stdout",
     "output_type": "stream",
     "text": [
      "None\n"
     ]
    }
   ],
   "source": [
    "print(numbers_tree.search(4))"
   ]
  },
  {
   "cell_type": "code",
   "execution_count": null,
   "id": "e645562d",
   "metadata": {},
   "outputs": [],
   "source": []
  }
 ],
 "metadata": {
  "kernelspec": {
   "display_name": "Python 3 (ipykernel)",
   "language": "python",
   "name": "python3"
  },
  "language_info": {
   "codemirror_mode": {
    "name": "ipython",
    "version": 3
   },
   "file_extension": ".py",
   "mimetype": "text/x-python",
   "name": "python",
   "nbconvert_exporter": "python",
   "pygments_lexer": "ipython3",
   "version": "3.9.5"
  }
 },
 "nbformat": 4,
 "nbformat_minor": 5
}
