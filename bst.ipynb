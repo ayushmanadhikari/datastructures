{
 "cells": [
  {
   "cell_type": "code",
   "execution_count": 1,
   "id": "5602cea6",
   "metadata": {},
   "outputs": [],
   "source": [
    "# binary serach tree"
   ]
  },
  {
   "cell_type": "code",
   "execution_count": 19,
   "id": "227d33a7",
   "metadata": {},
   "outputs": [],
   "source": [
    "class BinarySearchTree:\n",
    "    def __init__(self, data):\n",
    "        self.data = data\n",
    "        self.left = None\n",
    "        self.right = None\n",
    "    \n",
    "    def add_child(self, data):\n",
    "        if data == self.data:\n",
    "            return\n",
    "        if data<self.data:\n",
    "            # add this value to left sub tree\n",
    "            if self.left:     #there exists left subtree\n",
    "                self.left.add_child(data)\n",
    "            else:             # there is no left node/subtree    \n",
    "                self.left = BinarySearchTree(data)\n",
    "        if data > self.data:\n",
    "            if self.right:\n",
    "                self.right.add_child(data)\n",
    "            else:\n",
    "                self.right = BinarySearchTree(data)\n",
    "        \n",
    "    \n",
    "    def search_tree(self, value):\n",
    "        if value == self.data:\n",
    "            return True\n",
    "        if value < self.data:\n",
    "            if self.left:\n",
    "                return self.left.search_tree(value)\n",
    "            else:\n",
    "                return False\n",
    "        if value > self.data:\n",
    "            if self.right:\n",
    "                return self.right.search_tree(value)\n",
    "            else:\n",
    "                return False\n",
    "        \n",
    "    def in_order_traversal(self):\n",
    "        elements = []\n",
    "        #visit left node\n",
    "        if self.left:\n",
    "            elements += self.left.in_order_traversal()\n",
    "        # visit base node\n",
    "        elements.append(self.data)\n",
    "        #visit right node\n",
    "        if self.right:\n",
    "            elements += self.right.in_order_traversal()\n",
    "            \n",
    "        return elements\n",
    "    \n",
    "    def find_min(self):\n",
    "        elements = self.in_order_traversal()\n",
    "        minimum = elements[0]\n",
    "        return minimum\n",
    "    \n",
    "    def find_max(self):\n",
    "        if self.right is None:\n",
    "            return self.data\n",
    "        else:\n",
    "            self.right.find_max()\n",
    "    \n",
    "    def find_sum(self):\n",
    "        left_sum = self.left.find_sum() if self.right else 0\n",
    "        right_sum = self.right.find_sum() if self.right e\n",
    "        total = self.data + left_sum + right_sum\n",
    "        return total"
   ]
  },
  {
   "cell_type": "code",
   "execution_count": 20,
   "id": "2f899ae0",
   "metadata": {},
   "outputs": [],
   "source": [
    "def build_tree(elements):\n",
    "    root = BinarySearchTree(elements[0])\n",
    "    for i in range(1, len(elements)):\n",
    "        root.add_child(elements[i])\n",
    "    \n",
    "    return root"
   ]
  },
  {
   "cell_type": "code",
   "execution_count": 21,
   "id": "2147f09b",
   "metadata": {},
   "outputs": [],
   "source": [
    "numbers = [1,2,66,4,6,66,23,53,45]\n",
    "numbers_tree = build_tree(numbers)"
   ]
  },
  {
   "cell_type": "code",
   "execution_count": 22,
   "id": "9a6ef52c",
   "metadata": {
    "scrolled": true
   },
   "outputs": [
    {
     "name": "stdout",
     "output_type": "stream",
     "text": [
      "[1, 2, 4, 6, 23, 45, 53, 66]\n"
     ]
    }
   ],
   "source": [
    "print(numbers_tree.in_order_traversal())"
   ]
  },
  {
   "cell_type": "code",
   "execution_count": 23,
   "id": "add5ffda",
   "metadata": {},
   "outputs": [
    {
     "data": {
      "text/plain": [
       "[1, 2, 4, 6, 23, 45, 53, 66]"
      ]
     },
     "execution_count": 23,
     "metadata": {},
     "output_type": "execute_result"
    }
   ],
   "source": [
    "numbers_tree.in_order_traversal()"
   ]
  },
  {
   "cell_type": "code",
   "execution_count": 24,
   "id": "c85a031e",
   "metadata": {},
   "outputs": [
    {
     "data": {
      "text/plain": [
       "True"
      ]
     },
     "execution_count": 24,
     "metadata": {},
     "output_type": "execute_result"
    }
   ],
   "source": [
    "numbers_tree.search_tree(2)"
   ]
  },
  {
   "cell_type": "code",
   "execution_count": 25,
   "id": "74da25ff",
   "metadata": {},
   "outputs": [
    {
     "data": {
      "text/plain": [
       "1"
      ]
     },
     "execution_count": 25,
     "metadata": {},
     "output_type": "execute_result"
    }
   ],
   "source": [
    "numbers_tree.find_min()"
   ]
  },
  {
   "cell_type": "code",
   "execution_count": 26,
   "id": "d17db3d2",
   "metadata": {},
   "outputs": [
    {
     "data": {
      "text/plain": [
       "200"
      ]
     },
     "execution_count": 26,
     "metadata": {},
     "output_type": "execute_result"
    }
   ],
   "source": [
    "numbers_tree.find_sum()"
   ]
  },
  {
   "cell_type": "code",
   "execution_count": null,
   "id": "6474b7b5",
   "metadata": {},
   "outputs": [],
   "source": []
  }
 ],
 "metadata": {
  "kernelspec": {
   "display_name": "Python 3 (ipykernel)",
   "language": "python",
   "name": "python3"
  },
  "language_info": {
   "codemirror_mode": {
    "name": "ipython",
    "version": 3
   },
   "file_extension": ".py",
   "mimetype": "text/x-python",
   "name": "python",
   "nbconvert_exporter": "python",
   "pygments_lexer": "ipython3",
   "version": "3.9.5"
  }
 },
 "nbformat": 4,
 "nbformat_minor": 5
}
