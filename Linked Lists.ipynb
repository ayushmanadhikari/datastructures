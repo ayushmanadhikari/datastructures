{
 "cells": [
  {
   "cell_type": "code",
   "execution_count": 1,
   "id": "e00a3ae7",
   "metadata": {},
   "outputs": [],
   "source": [
    "# singly linked list"
   ]
  },
  {
   "cell_type": "code",
   "execution_count": 120,
   "id": "c4cbdc05",
   "metadata": {},
   "outputs": [],
   "source": [
    "class Node:\n",
    "    def __init__(self, dataval=None, nxt=None):\n",
    "        self.dataval = dataval\n",
    "        self.next = nxt\n",
    "\n",
    "class Slinked:\n",
    "    def __init__(self):\n",
    "        self.head = None\n",
    "    \n",
    "    \n",
    "    def insert_beg(self, data):\n",
    "        node = Node(data, self.head)                        #creating a node with some data value and pointer to the previous head node\n",
    "        self.head = node                                    # the new node we created now becomes the head node\n",
    "    \n",
    "    \n",
    "    def insert_end(self, data):\n",
    "        if self.head is None:\n",
    "            node = Node(data, self.head)\n",
    "            self.head = node\n",
    "        else:\n",
    "            c_head = self.head\n",
    "            while c_head:\n",
    "                c_head = c_head.next\n",
    "            \n",
    "            c_head.dataval = data\n",
    "    \n",
    "    \n",
    "    def printlist(self):\n",
    "        if self.head is None:\n",
    "            print(\"Linked list is empty.\")                 #checking if the list is empty by checking the 'head' pointer att of Slinked\n",
    "            return\n",
    "        else:\n",
    "            text = \"\"\n",
    "            c_head = self.head\n",
    "\n",
    "            while c_head:\n",
    "                #text = text + str(c_head.dataval) + \"-->\" \n",
    "                print(c_head.dataval)\n",
    "                c_head = c_head.next\n",
    "                \n",
    "            \n",
    "    "
   ]
  },
  {
   "cell_type": "code",
   "execution_count": 121,
   "id": "1a86ce9d",
   "metadata": {},
   "outputs": [],
   "source": [
    "ll = Slinked()\n",
    "ll.insert_beg(5)\n",
    "ll.insert_beg(85)"
   ]
  },
  {
   "cell_type": "code",
   "execution_count": 122,
   "id": "c2d61390",
   "metadata": {
    "scrolled": true
   },
   "outputs": [
    {
     "name": "stdout",
     "output_type": "stream",
     "text": [
      "85\n",
      "5\n"
     ]
    }
   ],
   "source": [
    "ll.printlist()"
   ]
  },
  {
   "cell_type": "code",
   "execution_count": null,
   "id": "8e8621f0",
   "metadata": {},
   "outputs": [],
   "source": []
  }
 ],
 "metadata": {
  "kernelspec": {
   "display_name": "Python 3 (ipykernel)",
   "language": "python",
   "name": "python3"
  },
  "language_info": {
   "codemirror_mode": {
    "name": "ipython",
    "version": 3
   },
   "file_extension": ".py",
   "mimetype": "text/x-python",
   "name": "python",
   "nbconvert_exporter": "python",
   "pygments_lexer": "ipython3",
   "version": "3.9.5"
  }
 },
 "nbformat": 4,
 "nbformat_minor": 5
}
