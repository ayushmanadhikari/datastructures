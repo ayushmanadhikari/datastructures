{
 "cells": [
  {
   "cell_type": "code",
   "execution_count": 1,
   "id": "f7fa3196",
   "metadata": {},
   "outputs": [],
   "source": [
    "# singly linked list"
   ]
  },
  {
   "cell_type": "code",
   "execution_count": 55,
   "id": "1fa84433",
   "metadata": {},
   "outputs": [],
   "source": [
    "class Node:\n",
    "    def __init__(self, dataval=None, nxt=None):\n",
    "        self.dataval = dataval\n",
    "        self.next = nxt\n",
    "\n",
    "        \n",
    "class Slinked:\n",
    "    def __init__(self):\n",
    "        self.head = None\n",
    "        \n",
    "    # Inserting elements\n",
    "    def insert_begining(self, data):\n",
    "        node = Node(data, self.head)\n",
    "        self.head = node\n",
    "    \n",
    "    def insert_end(self, data):\n",
    "        if self.head is None:\n",
    "            self.head = Node(data, None)\n",
    "            return\n",
    "        itr = self.head\n",
    "        while itr.next:\n",
    "            itr = itr.next\n",
    "        itr.next = Node(data, None)\n",
    "    \n",
    "    def insert_at(self, index, data):\n",
    "        itr = self.head\n",
    "        count = 0\n",
    "        while itr:\n",
    "            if count == index-1:\n",
    "                node = Node(data, itr.next)\n",
    "                itr.next = node\n",
    "                break\n",
    "            count = count + 1\n",
    "            itr = itr.next\n",
    "    \n",
    "    def create_linked(self, data_list):\n",
    "        self.head = None\n",
    "        for data in data_list:\n",
    "            self.insert_end(data)\n",
    "    \n",
    "    def get_length(self):\n",
    "        itr = self.head\n",
    "        count = 1\n",
    "        while itr.next:\n",
    "            itr = itr.next\n",
    "            count = count + 1\n",
    "        return count\n",
    "        \n",
    "        \n",
    "    # Removing elements \n",
    "    def remove_at(self, index):\n",
    "        if index<0 or index>self.get_length():\n",
    "            print(\"Invalid index.\")\n",
    "        \n",
    "        if index == 0:\n",
    "            self.head = self.head.next\n",
    "\n",
    "        count = 0\n",
    "        itr = self.head\n",
    "        while itr:\n",
    "            if count == index-1:\n",
    "                itr.next = itr.next.next\n",
    "                break\n",
    "            count = count + 1\n",
    "            itr = itr.next\n",
    "    \n",
    "    def printlist(self):\n",
    "        if self.head is None:\n",
    "            print(\"Linked list is empty!\")\n",
    "            return\n",
    "        else:\n",
    "            itr = self.head\n",
    "            while itr:\n",
    "                print(itr.dataval)\n",
    "                itr = itr.next\n"
   ]
  },
  {
   "cell_type": "code",
   "execution_count": 56,
   "id": "8921cf09",
   "metadata": {},
   "outputs": [],
   "source": [
    "ll = Slinked()\n",
    "ll.insert_begining(5)\n",
    "ll.insert_begining(85)"
   ]
  },
  {
   "cell_type": "code",
   "execution_count": 57,
   "id": "b05039aa",
   "metadata": {},
   "outputs": [
    {
     "name": "stdout",
     "output_type": "stream",
     "text": [
      "85\n",
      "5\n"
     ]
    }
   ],
   "source": [
    "ll.printlist()"
   ]
  },
  {
   "cell_type": "code",
   "execution_count": 58,
   "id": "4e4ec08b",
   "metadata": {},
   "outputs": [],
   "source": [
    "ll.insert_end(22)"
   ]
  },
  {
   "cell_type": "code",
   "execution_count": 59,
   "id": "30c40432",
   "metadata": {
    "scrolled": true
   },
   "outputs": [
    {
     "name": "stdout",
     "output_type": "stream",
     "text": [
      "85\n",
      "5\n",
      "22\n"
     ]
    }
   ],
   "source": [
    "ll.printlist()"
   ]
  },
  {
   "cell_type": "code",
   "execution_count": 60,
   "id": "f8cc1ef9",
   "metadata": {},
   "outputs": [],
   "source": [
    "ll1 = Slinked()\n",
    "ll1.create_linked([1,2,3,4,5])"
   ]
  },
  {
   "cell_type": "code",
   "execution_count": 61,
   "id": "123e8b5c",
   "metadata": {
    "scrolled": true
   },
   "outputs": [
    {
     "name": "stdout",
     "output_type": "stream",
     "text": [
      "1\n",
      "2\n",
      "3\n",
      "4\n",
      "5\n"
     ]
    }
   ],
   "source": [
    "ll1.printlist()"
   ]
  },
  {
   "cell_type": "code",
   "execution_count": 62,
   "id": "74d2199b",
   "metadata": {},
   "outputs": [],
   "source": [
    "ll1.remove_at(2)"
   ]
  },
  {
   "cell_type": "code",
   "execution_count": 63,
   "id": "68baa6a7",
   "metadata": {},
   "outputs": [
    {
     "name": "stdout",
     "output_type": "stream",
     "text": [
      "1\n",
      "2\n",
      "4\n",
      "5\n"
     ]
    }
   ],
   "source": [
    "ll1.printlist()"
   ]
  },
  {
   "cell_type": "code",
   "execution_count": 66,
   "id": "512dfcd3",
   "metadata": {},
   "outputs": [
    {
     "name": "stdout",
     "output_type": "stream",
     "text": [
      "1\n",
      "2\n",
      "11\n",
      "3\n",
      "4\n",
      "5\n"
     ]
    }
   ],
   "source": [
    "ll1.insert_at(2, 11)\n",
    "ll1.printlist()"
   ]
  },
  {
   "cell_type": "code",
   "execution_count": null,
   "id": "874bec3f",
   "metadata": {},
   "outputs": [],
   "source": []
  }
 ],
 "metadata": {
  "kernelspec": {
   "display_name": "Python 3 (ipykernel)",
   "language": "python",
   "name": "python3"
  },
  "language_info": {
   "codemirror_mode": {
    "name": "ipython",
    "version": 3
   },
   "file_extension": ".py",
   "mimetype": "text/x-python",
   "name": "python",
   "nbconvert_exporter": "python",
   "pygments_lexer": "ipython3",
   "version": "3.9.5"
  }
 },
 "nbformat": 4,
 "nbformat_minor": 5
}
