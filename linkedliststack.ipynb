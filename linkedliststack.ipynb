{
 "cells": [
  {
   "cell_type": "code",
   "execution_count": 1,
   "id": "a0be96ba",
   "metadata": {},
   "outputs": [],
   "source": [
    "# linked list impplementation of stack"
   ]
  },
  {
   "cell_type": "code",
   "execution_count": null,
   "id": "e7ce5193",
   "metadata": {},
   "outputs": [],
   "source": [
    "class Node:\n",
    "    def __init__(self, data, nxt=None):\n",
    "        self.data = data\n",
    "        self.next = nxt\n",
    "\n",
    "class Stack:\n",
    "    def __init__(self):\n",
    "        self.head = None\n",
    "    \n",
    "    def isEmpty(self):\n",
    "        if self.head == None:\n",
    "            return True\n",
    "    \n",
    "    def push(self, data):\n",
    "        if self.head is None:\n",
    "            self.head = Node(data, None)\n",
    "        else:\n",
    "            node = Node(data, self.head)\n",
    "            self.head = node\n",
    "    \n",
    "    def pop(self):\n",
    "        if self.head is None:\n",
    "            return None\n",
    "        else:\n",
    "            popped = self.head\n",
    "            self.head = self.head.next\n",
    "            return popped.data"
   ]
  }
 ],
 "metadata": {
  "kernelspec": {
   "display_name": "Python 3 (ipykernel)",
   "language": "python",
   "name": "python3"
  },
  "language_info": {
   "codemirror_mode": {
    "name": "ipython",
    "version": 3
   },
   "file_extension": ".py",
   "mimetype": "text/x-python",
   "name": "python",
   "nbconvert_exporter": "python",
   "pygments_lexer": "ipython3",
   "version": "3.9.5"
  }
 },
 "nbformat": 4,
 "nbformat_minor": 5
}
