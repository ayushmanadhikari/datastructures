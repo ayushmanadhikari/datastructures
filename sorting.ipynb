{
 "cells": [
  {
   "cell_type": "code",
   "execution_count": 1,
   "id": "eb725ea0",
   "metadata": {},
   "outputs": [],
   "source": [
    "# selection sort"
   ]
  },
  {
   "cell_type": "code",
   "execution_count": 4,
   "id": "896a5be5",
   "metadata": {},
   "outputs": [],
   "source": [
    "def merge_sort(arr):\n",
    "    if len(arr) > 1:\n",
    "        mid = len(arr)//2\n",
    "        L = arr[:mid]\n",
    "        R = arr[mid:]\n",
    "        \n",
    "        merge_sort(L)\n",
    "        \n",
    "        merge_sort(R)\n",
    "        \n",
    "        \n",
    "        i=j=k=0\n",
    "        \n",
    "        #while both array have elements left to be sorted, element of first array is compared with element of right array\n",
    "        while i < len(L) and j < len(R):\n",
    "            if L[i]<R[j]:\n",
    "                arr[k] = L[i]\n",
    "                i += 1\n",
    "            else:\n",
    "                arr[k] = R[j]\n",
    "                j += 1\n",
    "            k += 1\n",
    "        \n",
    "        while i < len(L):\n",
    "            arr[k] = L[i]\n",
    "            i += 1\n",
    "            k += 1\n",
    "        \n",
    "        while j < len(R):\n",
    "            arr[k] = R[j]\n",
    "            j += 1\n",
    "            k += 1\n",
    "\n",
    "\n",
    "        \n",
    "        \n"
   ]
  },
  {
   "cell_type": "code",
   "execution_count": 8,
   "id": "62f258b4",
   "metadata": {},
   "outputs": [],
   "source": [
    "def insertion_sort(arr):\n",
    "    for i in range(1, len(arr)):\n",
    "        key = arr[i]\n",
    "        #deifing predecesor\n",
    "        j = i-1 \n",
    "        #comparing the current element with its predecessor\n",
    "        while j >=0 and key<arr[j]:\n",
    "            arr[j + 1] = arr[j]        #copying the greater predecessor to the current position in the array\n",
    "            j -= 1                     #decreasing the index for proper execution of the loop\n",
    "        arr[j+1] = key                 #moving the smaller(current) element to one place ahead in the array\n",
    "            "
   ]
  },
  {
   "cell_type": "code",
   "execution_count": 9,
   "id": "6ff40f4b",
   "metadata": {},
   "outputs": [],
   "source": [
    "def print_list(arr):\n",
    "    for i in range(0, len(arr)):\n",
    "        print(arr[i])\n",
    "        "
   ]
  },
  {
   "cell_type": "code",
   "execution_count": 7,
   "id": "255b2623",
   "metadata": {},
   "outputs": [
    {
     "data": {
      "text/plain": [
       "[1, 2, 3, 5, 7, 12, 34, 45]"
      ]
     },
     "execution_count": 7,
     "metadata": {},
     "output_type": "execute_result"
    }
   ],
   "source": [
    "arr1 = [1,12,2,45,34,3,7,5]\n",
    "\n",
    "merge_sort(arr1)\n",
    "arr1\n"
   ]
  },
  {
   "cell_type": "code",
   "execution_count": 10,
   "id": "34122db7",
   "metadata": {},
   "outputs": [],
   "source": [
    "arr2 = [1,34,2,12,32,56,31,4,65,22]\n",
    "insertion_sort(arr2)"
   ]
  },
  {
   "cell_type": "code",
   "execution_count": 12,
   "id": "cf759909",
   "metadata": {},
   "outputs": [
    {
     "name": "stdout",
     "output_type": "stream",
     "text": [
      "1\n",
      "2\n",
      "4\n",
      "12\n",
      "22\n",
      "31\n",
      "32\n",
      "34\n",
      "56\n",
      "65\n"
     ]
    }
   ],
   "source": [
    "print_list(arr2)"
   ]
  },
  {
   "cell_type": "code",
   "execution_count": null,
   "id": "242c7643",
   "metadata": {},
   "outputs": [],
   "source": []
  }
 ],
 "metadata": {
  "kernelspec": {
   "display_name": "Python 3 (ipykernel)",
   "language": "python",
   "name": "python3"
  },
  "language_info": {
   "codemirror_mode": {
    "name": "ipython",
    "version": 3
   },
   "file_extension": ".py",
   "mimetype": "text/x-python",
   "name": "python",
   "nbconvert_exporter": "python",
   "pygments_lexer": "ipython3",
   "version": "3.9.10"
  }
 },
 "nbformat": 4,
 "nbformat_minor": 5
}
