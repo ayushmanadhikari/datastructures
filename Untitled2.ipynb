{
 "cells": [
  {
   "cell_type": "code",
   "execution_count": 1,
   "id": "c758e4d9",
   "metadata": {},
   "outputs": [],
   "source": [
    "#bst"
   ]
  },
  {
   "cell_type": "code",
   "execution_count": null,
   "id": "51b686ed",
   "metadata": {},
   "outputs": [],
   "source": [
    "class BinarySearchTree:\n",
    "    def __init__(self, data):\n",
    "        self.data = data\n",
    "        self.left = None\n",
    "        self.right = None\n",
    "    \n",
    "    def add_child(data):\n",
    "        if self.data == data:\n",
    "            return\n",
    "        else:\n",
    "            if data<self.data:\n",
    "                if self.left:\n",
    "                    self.left.add_child(data)\n",
    "                else:\n",
    "                    self.left = BinarySearchTree(data)\n",
    "            if data>self.data:\n",
    "                if self.right:\n",
    "                    self.right.add_child(data)\n",
    "                else:\n",
    "                    self.right = BinarySearchTree(data)\n",
    "    \n",
    "    def searchTree(self, data):\n",
    "        if self.data == data:\n",
    "            return True\n",
    "        else:\n",
    "            if data<self.data:\n",
    "                if self.left:\n",
    "                    self.left.searchTree(data)\n",
    "                else:\n",
    "                    return False\n",
    "            if data>self.right:\n",
    "                if self.right:\n",
    "                    self.right.searchTree(data)\n",
    "                else:\n",
    "                    return False\n",
    "    \n",
    "    def inOrderTraversal(self):\n",
    "        elements = []\n",
    "        if self.left:\n",
    "            elements = elements + self.left.inOrderTraversal()\n",
    "        elements.append(self.data)\n",
    "        if self.right:\n",
    "            elements = elements + self.right.inOrderTraversal()\n",
    "    \n",
    "    #pre and post order are same except when the data is appended first \n",
    "        \n",
    "        \n",
    "                    \n",
    "                    \n",
    "                    \n",
    "                    \n",
    "                    \n"
   ]
  }
 ],
 "metadata": {
  "kernelspec": {
   "display_name": "Python 3 (ipykernel)",
   "language": "python",
   "name": "python3"
  },
  "language_info": {
   "codemirror_mode": {
    "name": "ipython",
    "version": 3
   },
   "file_extension": ".py",
   "mimetype": "text/x-python",
   "name": "python",
   "nbconvert_exporter": "python",
   "pygments_lexer": "ipython3",
   "version": "3.9.13"
  }
 },
 "nbformat": 4,
 "nbformat_minor": 5
}
