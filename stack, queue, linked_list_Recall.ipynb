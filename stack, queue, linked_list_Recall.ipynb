{
 "cells": [
  {
   "cell_type": "code",
   "execution_count": 21,
   "id": "afc47bc1",
   "metadata": {},
   "outputs": [],
   "source": [
    "class Stack:\n",
    "    def __init__(self, size):\n",
    "        self.stack = [None]*size\n",
    "        self.top = -1 \n",
    "        self.size = size\n",
    "    \n",
    "    def isFull(self):\n",
    "        if self.top+1 == self.size:\n",
    "            return True\n",
    "    \n",
    "    def isEmpty(self):\n",
    "        if self.top == -1:\n",
    "            return True\n",
    "    \n",
    "    def push(self, item):\n",
    "        if self.isFull():\n",
    "            return \"Stack is full cannot push.\"\n",
    "        else:\n",
    "            self.top = self.top+1\n",
    "            self.stack[self.top] = item\n",
    "    \n",
    "    def pop(self):\n",
    "        if self.isEmpty():\n",
    "            return \"Stack is empty cannot pop.\"\n",
    "        else:\n",
    "            item = self.stack[self.top]\n",
    "            self.stack[self.top] = None\n",
    "            self.top = self.top-1\n",
    "            return f\"Popped item: {item}\"\n",
    "\n",
    "    def peek(self):\n",
    "        if self.isEmpty():\n",
    "            return \"Stack is empty!\"\n",
    "        else:\n",
    "            return self.stack[self.top]\n",
    "    \n",
    "    def checkCurrentSize(self):\n",
    "        size = self.top + 1\n",
    "        return size\n",
    "    \n",
    "    def getMax(self):\n",
    "        if self.isEmpty():\n",
    "            return \"Stack is empty!\"\n",
    "        else:\n",
    "            maxi = self.stack[0]\n",
    "            for i in range(1,self.checkCurrentSize()):\n",
    "                if maxi<self.stack[i]:\n",
    "                    maxi = self.stack[i]\n",
    "        \n",
    "        return f\"Maximum element: {maxi}\"\n",
    "    "
   ]
  },
  {
   "cell_type": "code",
   "execution_count": 22,
   "id": "dfa64c4a",
   "metadata": {},
   "outputs": [],
   "source": [
    "stack2 = Stack(5)"
   ]
  },
  {
   "cell_type": "code",
   "execution_count": 23,
   "id": "03304e26",
   "metadata": {},
   "outputs": [],
   "source": [
    "stack2.push(3)\n",
    "stack2.push(6)\n",
    "stack2.push(4)\n",
    "stack2.push(5)"
   ]
  },
  {
   "cell_type": "code",
   "execution_count": 24,
   "id": "3495c9e2",
   "metadata": {},
   "outputs": [
    {
     "data": {
      "text/plain": [
       "'Maximum element: 6'"
      ]
     },
     "execution_count": 24,
     "metadata": {},
     "output_type": "execute_result"
    }
   ],
   "source": [
    "stack2.getMax()"
   ]
  },
  {
   "cell_type": "code",
   "execution_count": 25,
   "id": "58e7f8aa",
   "metadata": {},
   "outputs": [
    {
     "data": {
      "text/plain": [
       "'Maximum element: 10'"
      ]
     },
     "execution_count": 25,
     "metadata": {},
     "output_type": "execute_result"
    }
   ],
   "source": [
    "stack2.push(10)\n",
    "stack2.getMax()"
   ]
  },
  {
   "cell_type": "code",
   "execution_count": null,
   "id": "5d7c8e53",
   "metadata": {},
   "outputs": [],
   "source": []
  }
 ],
 "metadata": {
  "kernelspec": {
   "display_name": "Python 3 (ipykernel)",
   "language": "python",
   "name": "python3"
  },
  "language_info": {
   "codemirror_mode": {
    "name": "ipython",
    "version": 3
   },
   "file_extension": ".py",
   "mimetype": "text/x-python",
   "name": "python",
   "nbconvert_exporter": "python",
   "pygments_lexer": "ipython3",
   "version": "3.9.13"
  }
 },
 "nbformat": 4,
 "nbformat_minor": 5
}
