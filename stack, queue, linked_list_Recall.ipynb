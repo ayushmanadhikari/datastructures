{
 "cells": [
  {
   "cell_type": "code",
   "execution_count": 21,
   "id": "682c01ff",
   "metadata": {},
   "outputs": [],
   "source": [
    "class Stack:\n",
    "    def __init__(self, size):\n",
    "        self.stack = [None]*size\n",
    "        self.top = -1 \n",
    "        self.size = size\n",
    "    \n",
    "    def isFull(self):\n",
    "        if self.top+1 == self.size:\n",
    "            return True\n",
    "    \n",
    "    def isEmpty(self):\n",
    "        if self.top == -1:\n",
    "            return True\n",
    "    \n",
    "    def push(self, item):\n",
    "        if self.isFull():\n",
    "            return \"Stack is full cannot push.\"\n",
    "        else:\n",
    "            self.top = self.top+1\n",
    "            self.stack[self.top] = item\n",
    "    \n",
    "    def pop(self):\n",
    "        if self.isEmpty():\n",
    "            return \"Stack is empty cannot pop.\"\n",
    "        else:\n",
    "            item = self.stack[self.top]\n",
    "            self.stack[self.top] = None\n",
    "            self.top = self.top-1\n",
    "            return f\"Popped item: {item}\"\n",
    "\n",
    "    def peek(self):\n",
    "        if self.isEmpty():\n",
    "            return \"Stack is empty!\"\n",
    "        else:\n",
    "            return self.stack[self.top]\n",
    "    \n",
    "    def checkCurrentSize(self):\n",
    "        size = self.top + 1\n",
    "        return size\n",
    "    \n",
    "    def getMax(self):\n",
    "        if self.isEmpty():\n",
    "            return \"Stack is empty!\"\n",
    "        else:\n",
    "            maxi = self.stack[0]\n",
    "            for i in range(1,self.checkCurrentSize()):\n",
    "                if maxi<self.stack[i]:\n",
    "                    maxi = self.stack[i]\n",
    "        \n",
    "        return f\"Maximum element: {maxi}\"\n",
    "    "
   ]
  },
  {
   "cell_type": "code",
   "execution_count": 22,
   "id": "cda257ba",
   "metadata": {},
   "outputs": [],
   "source": [
    "stack2 = Stack(5)"
   ]
  },
  {
   "cell_type": "code",
   "execution_count": 23,
   "id": "99fc969b",
   "metadata": {},
   "outputs": [],
   "source": [
    "stack2.push(3)\n",
    "stack2.push(6)\n",
    "stack2.push(4)\n",
    "stack2.push(5)"
   ]
  },
  {
   "cell_type": "code",
   "execution_count": 24,
   "id": "d47b481b",
   "metadata": {},
   "outputs": [
    {
     "data": {
      "text/plain": [
       "'Maximum element: 6'"
      ]
     },
     "execution_count": 24,
     "metadata": {},
     "output_type": "execute_result"
    }
   ],
   "source": [
    "stack2.getMax()"
   ]
  },
  {
   "cell_type": "code",
   "execution_count": 25,
   "id": "3856bcf2",
   "metadata": {},
   "outputs": [
    {
     "data": {
      "text/plain": [
       "'Maximum element: 10'"
      ]
     },
     "execution_count": 25,
     "metadata": {},
     "output_type": "execute_result"
    }
   ],
   "source": [
    "stack2.push(10)\n",
    "stack2.getMax()"
   ]
  },
  {
   "cell_type": "code",
   "execution_count": 1,
   "id": "5e23caf3",
   "metadata": {},
   "outputs": [],
   "source": [
    "class queue:\n",
    "    def __init__(self, maxSize):\n",
    "        self.Q = [None]*maxSize\n",
    "        self.maxSize=maxSize\n",
    "        self.rear=-1\n",
    "        self.front=self.size=0\n",
    "    \n",
    "    def isFull(self):\n",
    "        if self.size==self.maxSize:\n",
    "            return True\n",
    "    \n",
    "    def isEmpty(self):\n",
    "        if self.size==0:\n",
    "            return True\n",
    "    \n",
    "    def enque(self, item):\n",
    "        if self.isFull():\n",
    "            return \"Queue is full.\"\n",
    "        else:\n",
    "            self.rear=(self.rear+1)%self.maxSize\n",
    "            self.Q[self.rear]=item\n",
    "            self.size=self.size+1\n",
    "    \n",
    "    def deque(self):\n",
    "        if self.isEmpty():\n",
    "            return \"Queue is empty.\"\n",
    "        else:\n",
    "            item=self.Q[self.front]\n",
    "            self.Q[self.front]=None\n",
    "            self.front=(self.front+1)%self.maxSize\n",
    "            self.size=self.size-1\n",
    "            return f\"Dequed item is {item}\"\n",
    "    \n",
    "    def que_front(self):\n",
    "        return f\"Queue front is: {self.Q[self.front]}\"\n",
    "    \n",
    "    def que_rear(self):\n",
    "        return f\"Queue rear is: {self.Q[self.rear]}\"\n",
    "    \n",
    "    def print_q(self):\n",
    "        print(f\"{self.Q}\")"
   ]
  },
  {
   "cell_type": "code",
   "execution_count": null,
   "id": "eb655421",
   "metadata": {},
   "outputs": [],
   "source": []
  },
  {
   "cell_type": "code",
   "execution_count": 1,
   "id": "a749b3e8",
   "metadata": {},
   "outputs": [],
   "source": [
    "class Node:\n",
    "    def __init__(self, dataval=None, nxt=None):\n",
    "        self.dataval = dataval\n",
    "        self.next = nxt\n",
    "        \n",
    "    \n",
    "    \n",
    "class Linked:\n",
    "    def __init__(self):\n",
    "        self.head = None\n",
    "    \n",
    "    def insert_beg(self, item):\n",
    "        node = Node(item, self.head)\n",
    "        self.head = node\n",
    "    \n",
    "    def insert_end(self, item):\n",
    "        if self.head == None:\n",
    "            node = Node(item, None)\n",
    "            self.head = node\n",
    "        else:\n",
    "            itr = self.head\n",
    "            while itr.next:\n",
    "                itr=itr.next\n",
    "            itr.next=Node(item, None)\n",
    "    \n",
    "    def insert_at(self, item, index):\n",
    "        if self.head==None:\n",
    "            node = Node(item, None)\n",
    "            self.head = node\n",
    "        else:\n",
    "            itr = self.head\n",
    "            count=0\n",
    "            #index starts from 0\n",
    "            while count!=index-1:\n",
    "                itr=itr.next\n",
    "                count=count+1\n",
    "            node=Node(item, itr.next)\n",
    "            itr.next=node\n",
    "            \n",
    "    \n",
    "    def get_length(self):\n",
    "        itr = self.head\n",
    "        count=0\n",
    "        while itr:\n",
    "            itr=itr.next\n",
    "            count=count+1\n",
    "        return count\n",
    "    \n",
    "    def rem_beg(self):\n",
    "        if self.head ==None:\n",
    "            print(\"Empty linked list\")\n",
    "        else:\n",
    "            print(f\"removed item is {self.head.dataval}\")\n",
    "            self.head=self.head.next\n",
    "    \n",
    "    def rem_end(self):\n",
    "        if self.head ==None:\n",
    "            print(\"Empty linked list\")\n",
    "        else:\n",
    "            itr=self.head\n",
    "            length = self.get_length()\n",
    "            print(f\"length is {length}\")\n",
    "            count=0\n",
    "            while count!=length-2:\n",
    "                itr=itr.next\n",
    "                count=count+1\n",
    "            print(f\"removed item is {itr.next.dataval}\")\n",
    "            itr.next=None\n",
    "            \n",
    "    def rem_at(self, index):\n",
    "        if self.head ==None:\n",
    "            print(\"Empty linked list\")\n",
    "        else:\n",
    "            itr=self.head\n",
    "            count=0\n",
    "            #index starts at 0\n",
    "            while count!=index-1:\n",
    "                itr=itr.next\n",
    "                count=count+1\n",
    "            item = itr.next.dataval\n",
    "            itr.next=itr.next.next\n",
    "            return f\"removed item is {item}\"\n",
    "    \n",
    "    def print_list(self):\n",
    "        itr=self.head\n",
    "        while itr:\n",
    "            print(f\"{itr.dataval}\")\n",
    "            itr=itr.next            \n",
    "    \n",
    "\n",
    "        "
   ]
  },
  {
   "cell_type": "code",
   "execution_count": 2,
   "id": "cd77dd11",
   "metadata": {},
   "outputs": [],
   "source": [
    "l2 = Linked()"
   ]
  },
  {
   "cell_type": "code",
   "execution_count": 3,
   "id": "51816b95",
   "metadata": {},
   "outputs": [],
   "source": [
    "l2.insert_beg(3)\n",
    "l2.insert_beg(2)\n",
    "l2.insert_beg(1)"
   ]
  },
  {
   "cell_type": "code",
   "execution_count": 4,
   "id": "2a385182",
   "metadata": {},
   "outputs": [
    {
     "name": "stdout",
     "output_type": "stream",
     "text": [
      "1\n",
      "2\n",
      "3\n"
     ]
    }
   ],
   "source": [
    "l2.print_list()"
   ]
  },
  {
   "cell_type": "code",
   "execution_count": 5,
   "id": "32ca2295",
   "metadata": {},
   "outputs": [],
   "source": [
    "l2.insert_end(4)"
   ]
  },
  {
   "cell_type": "code",
   "execution_count": 6,
   "id": "984c1ede",
   "metadata": {},
   "outputs": [
    {
     "name": "stdout",
     "output_type": "stream",
     "text": [
      "1\n",
      "2\n",
      "3\n",
      "4\n"
     ]
    }
   ],
   "source": [
    "l2.print_list()"
   ]
  },
  {
   "cell_type": "code",
   "execution_count": 7,
   "id": "ced6eb66",
   "metadata": {},
   "outputs": [
    {
     "name": "stdout",
     "output_type": "stream",
     "text": [
      "1\n",
      "2\n",
      "3\n",
      "4\n",
      "6\n"
     ]
    }
   ],
   "source": [
    "l2.insert_end(6)\n",
    "l2.print_list()"
   ]
  },
  {
   "cell_type": "code",
   "execution_count": 8,
   "id": "039df0ba",
   "metadata": {},
   "outputs": [],
   "source": [
    "l2.insert_at(5,4)"
   ]
  },
  {
   "cell_type": "code",
   "execution_count": 9,
   "id": "2cf58eb5",
   "metadata": {},
   "outputs": [
    {
     "name": "stdout",
     "output_type": "stream",
     "text": [
      "1\n",
      "2\n",
      "3\n",
      "4\n",
      "5\n",
      "6\n"
     ]
    }
   ],
   "source": [
    "l2.print_list()"
   ]
  },
  {
   "cell_type": "code",
   "execution_count": 10,
   "id": "46bf6390",
   "metadata": {},
   "outputs": [
    {
     "name": "stdout",
     "output_type": "stream",
     "text": [
      "removed item is 1\n",
      "2\n",
      "3\n",
      "4\n",
      "5\n",
      "6\n"
     ]
    }
   ],
   "source": [
    "l2.rem_beg()\n",
    "l2.print_list()"
   ]
  },
  {
   "cell_type": "code",
   "execution_count": 11,
   "id": "3133c643",
   "metadata": {},
   "outputs": [
    {
     "data": {
      "text/plain": [
       "5"
      ]
     },
     "execution_count": 11,
     "metadata": {},
     "output_type": "execute_result"
    }
   ],
   "source": [
    "l2.get_length()"
   ]
  },
  {
   "cell_type": "code",
   "execution_count": 14,
   "id": "eb191ecf",
   "metadata": {},
   "outputs": [
    {
     "name": "stdout",
     "output_type": "stream",
     "text": [
      "length is 4\n",
      "removed item is 5\n"
     ]
    }
   ],
   "source": [
    "l2.rem_end()"
   ]
  },
  {
   "cell_type": "code",
   "execution_count": 15,
   "id": "ce0308db",
   "metadata": {},
   "outputs": [
    {
     "name": "stdout",
     "output_type": "stream",
     "text": [
      "2\n",
      "3\n",
      "4\n"
     ]
    }
   ],
   "source": [
    "l2.print_list()"
   ]
  },
  {
   "cell_type": "code",
   "execution_count": 16,
   "id": "1cc817a8",
   "metadata": {},
   "outputs": [
    {
     "data": {
      "text/plain": [
       "'removed item is 3'"
      ]
     },
     "execution_count": 16,
     "metadata": {},
     "output_type": "execute_result"
    }
   ],
   "source": [
    "l2.rem_at(1)"
   ]
  },
  {
   "cell_type": "code",
   "execution_count": 17,
   "id": "ec95be4d",
   "metadata": {},
   "outputs": [
    {
     "name": "stdout",
     "output_type": "stream",
     "text": [
      "2\n",
      "4\n"
     ]
    }
   ],
   "source": [
    "l2.print_list()"
   ]
  },
  {
   "cell_type": "code",
   "execution_count": 18,
   "id": "5aebf613",
   "metadata": {},
   "outputs": [],
   "source": [
    "l2.insert_at(3,1)"
   ]
  },
  {
   "cell_type": "code",
   "execution_count": 19,
   "id": "ba414aa2",
   "metadata": {},
   "outputs": [],
   "source": [
    "l2.insert_beg(1)"
   ]
  },
  {
   "cell_type": "code",
   "execution_count": 20,
   "id": "e406bd49",
   "metadata": {},
   "outputs": [
    {
     "name": "stdout",
     "output_type": "stream",
     "text": [
      "1\n",
      "2\n",
      "3\n",
      "4\n",
      "5\n"
     ]
    }
   ],
   "source": [
    "l2.insert_end(5)\n",
    "l2.print_list()"
   ]
  },
  {
   "cell_type": "code",
   "execution_count": 21,
   "id": "84ff268e",
   "metadata": {},
   "outputs": [
    {
     "name": "stdout",
     "output_type": "stream",
     "text": [
      "1\n",
      "2\n",
      "3\n",
      "5\n"
     ]
    }
   ],
   "source": [
    "l2.rem_at(3)\n",
    "l2.print_list()"
   ]
  },
  {
   "cell_type": "code",
   "execution_count": null,
   "id": "bb753810",
   "metadata": {},
   "outputs": [],
   "source": []
  }
 ],
 "metadata": {
  "kernelspec": {
   "display_name": "Python 3 (ipykernel)",
   "language": "python",
   "name": "python3"
  },
  "language_info": {
   "codemirror_mode": {
    "name": "ipython",
    "version": 3
   },
   "file_extension": ".py",
   "mimetype": "text/x-python",
   "name": "python",
   "nbconvert_exporter": "python",
   "pygments_lexer": "ipython3",
   "version": "3.9.13"
  }
 },
 "nbformat": 4,
 "nbformat_minor": 5
}
