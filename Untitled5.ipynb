{
 "cells": [
  {
   "cell_type": "code",
   "execution_count": 33,
   "id": "5d19060c",
   "metadata": {},
   "outputs": [],
   "source": [
    "def mergeSort(arr):\n",
    "    if len(arr)>1:\n",
    "        mid = len(arr)//2\n",
    "        L = arr[:mid]\n",
    "        R = arr[mid:]\n",
    "\n",
    "        \n",
    "        mergeSort(L)\n",
    "        mergeSort(R)\n",
    "        \n",
    "        i=j=k=0\n",
    "        \n",
    "        while i<len(L) and j<len(R):\n",
    "            if L[i]<R[j]:\n",
    "                arr[k] = L[i]\n",
    "                i=i+1\n",
    "                k=k+1\n",
    "            else:\n",
    "                arr[k] = R[j]\n",
    "                j=j+1\n",
    "                k=k+1\n",
    "        \n",
    "        while i<len(L):\n",
    "            arr[k] = L[i]\n",
    "            k=k+1\n",
    "            i=i+1\n",
    "        \n",
    "        while j<len(R):\n",
    "            arr[k] = R[j]\n",
    "            j=j+1\n",
    "            k=k+1\n",
    "    \n",
    "            \n",
    "            "
   ]
  },
  {
   "cell_type": "code",
   "execution_count": 37,
   "id": "624f73ca",
   "metadata": {},
   "outputs": [],
   "source": [
    "b = [1,2,4,7,3,33,12,56,23,54,32,65]"
   ]
  },
  {
   "cell_type": "code",
   "execution_count": 38,
   "id": "b4913e50",
   "metadata": {},
   "outputs": [],
   "source": [
    "mergeSort(b)"
   ]
  },
  {
   "cell_type": "code",
   "execution_count": 39,
   "id": "f26223fc",
   "metadata": {},
   "outputs": [
    {
     "data": {
      "text/plain": [
       "[1, 2, 3, 4, 7, 12, 23, 32, 33, 54, 56, 65]"
      ]
     },
     "execution_count": 39,
     "metadata": {},
     "output_type": "execute_result"
    }
   ],
   "source": [
    "b"
   ]
  },
  {
   "cell_type": "code",
   "execution_count": null,
   "id": "0661b1b0",
   "metadata": {},
   "outputs": [],
   "source": []
  }
 ],
 "metadata": {
  "kernelspec": {
   "display_name": "Python 3 (ipykernel)",
   "language": "python",
   "name": "python3"
  },
  "language_info": {
   "codemirror_mode": {
    "name": "ipython",
    "version": 3
   },
   "file_extension": ".py",
   "mimetype": "text/x-python",
   "name": "python",
   "nbconvert_exporter": "python",
   "pygments_lexer": "ipython3",
   "version": "3.9.13"
  }
 },
 "nbformat": 4,
 "nbformat_minor": 5
}
