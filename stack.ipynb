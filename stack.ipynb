{
 "cells": [
  {
   "cell_type": "code",
   "execution_count": 1,
   "id": "866af6de",
   "metadata": {},
   "outputs": [],
   "source": [
    "#from array import *"
   ]
  },
  {
   "cell_type": "code",
   "execution_count": 91,
   "id": "5041b163",
   "metadata": {},
   "outputs": [],
   "source": [
    "class Stack:\n",
    "    def __init__(self, size):\n",
    "        self.stack = [None] * size      # defining a fixed sized array \n",
    "        self.top = -1\n",
    "        self.size = size\n",
    "    \n",
    "    #function to add a new element on the top of stack\n",
    "    def push(self, dataval):\n",
    "        if self.isFull():\n",
    "            return \"Stack is Full! Cannot push.\"\n",
    "        else:\n",
    "            self.top = self.top + 1\n",
    "            self.stack[self.top] = dataval\n",
    "    \n",
    "    # function to remove an element from the top of the stack\n",
    "    # we dont actually delete the element from the stack but just decrease the top pointer by 1\n",
    "    def pop(self):\n",
    "        if self.isEmpty():\n",
    "            return \"Stack is Empty! Cannot pop.\"\n",
    "        else:\n",
    "            top = self.stack[self.top]\n",
    "            self.top = self.top -1 \n",
    "            return f\"Popped item: {top}\"\n",
    "    \n",
    "    # get the top element from the stack\n",
    "    def peek(self):\n",
    "        if self.isEmpty():\n",
    "            return \"Stack is Empty! Cannot peak.\"\n",
    "        return self.stack[self.top]\n",
    "    \n",
    "    # to get the size of the stack\n",
    "    def check_size(self):\n",
    "        size = self.top + 1\n",
    "        return size\n",
    "    \n",
    "    # to check if the stack is empty \n",
    "    def isEmpty(self):\n",
    "        if self.top == -1:\n",
    "            return True\n",
    "        else:\n",
    "            return False\n",
    "    # to check if stack is full\n",
    "    def isFull(self):\n",
    "        if self.top + 1 == self.size:\n",
    "            return True\n",
    "        else:\n",
    "            return False       \n",
    "    \n",
    "    # checking for the maximum element in the stack\n",
    "    def get_max(self):\n",
    "        highest = None\n",
    "        temp1 = self.top\n",
    "        temp2 = temp1 - 1\n",
    "        if self.stack[temp1] > self.stack[temp2]:\n",
    "            highest = self.stack[temp1]\n",
    "            temp2 = temp2 - 1\n",
    "        else: \n",
    "            highest = self.stack[temp2]\n",
    "            temp1 = temp1 - 1\n",
    "        return highest"
   ]
  },
  {
   "cell_type": "code",
   "execution_count": 96,
   "id": "74dab326",
   "metadata": {},
   "outputs": [],
   "source": [
    "stack1 = Stack(5)"
   ]
  },
  {
   "cell_type": "code",
   "execution_count": 97,
   "id": "fd308ed6",
   "metadata": {},
   "outputs": [],
   "source": [
    "stack1.push(3)\n",
    "stack1.push(6)\n",
    "stack1.push(4)\n",
    "stack1.push(5)"
   ]
  },
  {
   "cell_type": "code",
   "execution_count": 98,
   "id": "75405acf",
   "metadata": {
    "scrolled": true
   },
   "outputs": [
    {
     "data": {
      "text/plain": [
       "6"
      ]
     },
     "execution_count": 98,
     "metadata": {},
     "output_type": "execute_result"
    }
   ],
   "source": [
    "stack.get_max()"
   ]
  },
  {
   "cell_type": "code",
   "execution_count": 85,
   "id": "28c13779",
   "metadata": {},
   "outputs": [],
   "source": []
  },
  {
   "cell_type": "code",
   "execution_count": 86,
   "id": "02c0436b",
   "metadata": {},
   "outputs": [
    {
     "data": {
      "text/plain": [
       "'Popped item: 6'"
      ]
     },
     "execution_count": 86,
     "metadata": {},
     "output_type": "execute_result"
    }
   ],
   "source": [
    "stack.pop()"
   ]
  },
  {
   "cell_type": "code",
   "execution_count": 87,
   "id": "d78a420e",
   "metadata": {},
   "outputs": [
    {
     "data": {
      "text/plain": [
       "5"
      ]
     },
     "execution_count": 87,
     "metadata": {},
     "output_type": "execute_result"
    }
   ],
   "source": [
    "stack.peek()"
   ]
  },
  {
   "cell_type": "code",
   "execution_count": 90,
   "id": "be4816ca",
   "metadata": {
    "scrolled": true
   },
   "outputs": [
    {
     "data": {
      "text/plain": [
       "3"
      ]
     },
     "execution_count": 90,
     "metadata": {},
     "output_type": "execute_result"
    }
   ],
   "source": [
    "stack.check_size()"
   ]
  },
  {
   "cell_type": "code",
   "execution_count": null,
   "id": "7477e6c4",
   "metadata": {},
   "outputs": [],
   "source": []
  }
 ],
 "metadata": {
  "kernelspec": {
   "display_name": "Python 3 (ipykernel)",
   "language": "python",
   "name": "python3"
  },
  "language_info": {
   "codemirror_mode": {
    "name": "ipython",
    "version": 3
   },
   "file_extension": ".py",
   "mimetype": "text/x-python",
   "name": "python",
   "nbconvert_exporter": "python",
   "pygments_lexer": "ipython3",
   "version": "3.9.5"
  }
 },
 "nbformat": 4,
 "nbformat_minor": 5
}
